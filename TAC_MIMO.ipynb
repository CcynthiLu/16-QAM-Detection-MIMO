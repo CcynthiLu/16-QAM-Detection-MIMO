{
  "nbformat": 4,
  "nbformat_minor": 0,
  "metadata": {
    "colab": {
      "name": "TAC-MIMO",
      "provenance": [],
      "collapsed_sections": [],
      "include_colab_link": true
    },
    "kernelspec": {
      "name": "python3",
      "display_name": "Python 3"
    }
  },
  "cells": [
    {
      "cell_type": "markdown",
      "metadata": {
        "id": "view-in-github",
        "colab_type": "text"
      },
      "source": [
        "<a href=\"https://colab.research.google.com/github/betegon/16-QAM-Detection-MIMO/blob/master/TAC_MIMO.ipynb\" target=\"_parent\"><img src=\"https://colab.research.google.com/assets/colab-badge.svg\" alt=\"Open In Colab\"/></a>"
      ]
    },
    {
      "cell_type": "code",
      "metadata": {
        "id": "GfqSLBPKr_Uh",
        "colab_type": "code",
        "colab": {}
      },
      "source": [
        "import math\n",
        "import numpy as np\n"
      ],
      "execution_count": 0,
      "outputs": []
    },
    {
      "cell_type": "markdown",
      "metadata": {
        "id": "0So5pVnLtFSD",
        "colab_type": "text"
      },
      "source": [
        "## EJEMPLO CON 2 antenas\n"
      ]
    },
    {
      "cell_type": "code",
      "metadata": {
        "id": "Pb0PM0pMsahp",
        "colab_type": "code",
        "colab": {}
      },
      "source": [
        "k = 2 # 2 antennas"
      ],
      "execution_count": 0,
      "outputs": []
    },
    {
      "cell_type": "code",
      "metadata": {
        "id": "p4WWF_n8tBo_",
        "colab_type": "code",
        "outputId": "5ecd36ef-dcac-41fc-eee3-4ff185cb8e3f",
        "colab": {
          "base_uri": "https://localhost:8080/",
          "height": 217
        }
      },
      "source": [
        "s_matrix = np.array([[-3, -1],[1, 3]])\n",
        "print(s_matrix)\n",
        "s = (np.array([s_matrix.flatten('F')])).transpose()\n",
        "print(\"s\\n\",s)\n",
        "t = s**2\n",
        "print(t)"
      ],
      "execution_count": 40,
      "outputs": [
        {
          "output_type": "stream",
          "text": [
            "[[-3 -1]\n",
            " [ 1  3]]\n",
            "s\n",
            " [[-3]\n",
            " [ 1]\n",
            " [-1]\n",
            " [ 3]]\n",
            "[[9]\n",
            " [1]\n",
            " [1]\n",
            " [9]]\n"
          ],
          "name": "stdout"
        }
      ]
    },
    {
      "cell_type": "code",
      "metadata": {
        "id": "FiM7m-pxyg83",
        "colab_type": "code",
        "outputId": "ff48ee71-c61b-4f00-fed5-ab32333b00b9",
        "colab": {
          "base_uri": "https://localhost:8080/",
          "height": 290
        }
      },
      "source": [
        "# CREACIÓN DE H \n",
        "\n",
        "k = 2  # number of antennas\n",
        "# H is CN(0,1)\n",
        "mu = np.zeros(2*k)\n",
        "sigma = np.ones((k,k*2))\n",
        "\n",
        "\n",
        "H = (1/np.sqrt(2))*np.random.normal(loc=mu, scale=sigma, size=(k,k*2)).view(np.complex128) \n",
        "print(H)\n",
        "a = np.column_stack((np.real(H), -np.imag(H)))\n",
        "print(\"Fila1: \\n\",a,\"\\n\")\n",
        "b = np.column_stack((np.imag(H), np.real(H)))\n",
        "print(\"Fila2\\n\",b,\"\\n\")\n",
        "H_expanded = np.concatenate((a,b), axis=0)\n",
        "print(\"Matriz H expandida\\n\",H_expanded)"
      ],
      "execution_count": 41,
      "outputs": [
        {
          "output_type": "stream",
          "text": [
            "[[-0.45220356-0.02024426j -0.38538491+1.37227257j]\n",
            " [-0.1527265 +0.09479141j  0.1442295 -0.24541657j]]\n",
            "Fila1: \n",
            " [[-0.45220356 -0.38538491  0.02024426 -1.37227257]\n",
            " [-0.1527265   0.1442295  -0.09479141  0.24541657]] \n",
            "\n",
            "Fila2\n",
            " [[-0.02024426  1.37227257 -0.45220356 -0.38538491]\n",
            " [ 0.09479141 -0.24541657 -0.1527265   0.1442295 ]] \n",
            "\n",
            "Matriz H expandida\n",
            " [[-0.45220356 -0.38538491  0.02024426 -1.37227257]\n",
            " [-0.1527265   0.1442295  -0.09479141  0.24541657]\n",
            " [-0.02024426  1.37227257 -0.45220356 -0.38538491]\n",
            " [ 0.09479141 -0.24541657 -0.1527265   0.1442295 ]]\n"
          ],
          "name": "stdout"
        }
      ]
    },
    {
      "cell_type": "code",
      "metadata": {
        "id": "1oMcnp_eRce6",
        "colab_type": "code",
        "colab": {}
      },
      "source": [
        "def awgn(signal, snr, seed=False):\n",
        "    \"\"\" Generate Aditive White Gaussian Noise (AWGN) from an input signal.\n",
        "\n",
        "    Args:\n",
        "        signal  (np.array): Input signal. e.g. signal = np.array([[1, 2.3, -1]])\n",
        "        snr        (float): Signal-to-noise ratio in dB.\n",
        "        seed        (bool): Set seed to reproduce results (good for debugging).\n",
        "                            Defaults to False.\n",
        "\n",
        "    Returns:\n",
        "        noise (np.array): AWGN generated from an input signal.\n",
        "\n",
        "    \"\"\"\n",
        "    if seed: np.random.seed(1)\n",
        "    sigpower = sum([ math.pow(abs(signal[i]),2) for i in range(len(signal)) ])\n",
        "    sigpower = sigpower / len(signal)\n",
        "    noisepower = sigpower / (math.pow(10,snr/10))\n",
        "    noise = np.random.normal(0, np.sqrt(noisepower), len(signal))\n",
        "    return np.array([noise]).T"
      ],
      "execution_count": 0,
      "outputs": []
    },
    {
      "cell_type": "code",
      "metadata": {
        "id": "WY6X7Cn80-3X",
        "colab_type": "code",
        "outputId": "ebb6d5ec-2bb3-4451-d9b0-6372d16b213a",
        "colab": {
          "base_uri": "https://localhost:8080/",
          "height": 454
        }
      },
      "source": [
        "# y = H*s+w;      \n",
        "mu = np.zeros(k)\n",
        "sigma = np.ones((k,k))\n",
        "snr = 20\n",
        "\n",
        "noise = awgn(s,snr)\n",
        "# noise = np.random.normal(loc=mu, scale=sigma, size=(k,k)).view(np.complex128) \n",
        "# noise = np.concatenate((np.real(noise), np.imag(noise)), axis=0)\n",
        "\n",
        "\n",
        "\n",
        "y = H_expanded.dot(s) + noise\n",
        "print(\"\\nH\\n\",H_expanded)\n",
        "print(\"\\ns\\n\",s)\n",
        "# print(\"\\nnoise\\n\",noise)\n",
        "print(\"\\nnoise \\n\", noise)\n",
        "print(\"\\ny\\n\",y)"
      ],
      "execution_count": 43,
      "outputs": [
        {
          "output_type": "stream",
          "text": [
            "\n",
            "H\n",
            " [[-0.45220356 -0.38538491  0.02024426 -1.37227257]\n",
            " [-0.1527265   0.1442295  -0.09479141  0.24541657]\n",
            " [-0.02024426  1.37227257 -0.45220356 -0.38538491]\n",
            " [ 0.09479141 -0.24541657 -0.1527265   0.1442295 ]]\n",
            "\n",
            "s\n",
            " [[-3]\n",
            " [ 1]\n",
            " [-1]\n",
            " [ 3]]\n",
            "\n",
            "noise \n",
            " [[-0.21406218]\n",
            " [ 0.12826537]\n",
            " [ 0.13233666]\n",
            " [-0.17464794]]\n",
            "\n",
            "y\n",
            " [[-3.37989837]\n",
            " [ 1.56171548]\n",
            " [ 0.86139084]\n",
            " [-0.11902375]]\n"
          ],
          "name": "stdout"
        }
      ]
    },
    {
      "cell_type": "code",
      "metadata": {
        "id": "d0oPfqaxuZOG",
        "colab_type": "code",
        "outputId": "c8592281-721f-42fe-8601-1a0154daaa7b",
        "colab": {
          "base_uri": "https://localhost:8080/",
          "height": 490
        }
      },
      "source": [
        "## CALCULO DE W (variable a minimizar)\n",
        "w = np.concatenate((s,t,[[1]]))\n",
        "w_transpose = w.transpose()\n",
        "print(\"w\\n\",w)\n",
        "print(\"w_transpose\\n\",w_transpose)\n",
        "\n",
        "W = w.dot(w_transpose)\n",
        "print(\"\\nBig W\\n\",W)\n",
        "print(\"\\nBig W\\n\",W.shape)"
      ],
      "execution_count": 48,
      "outputs": [
        {
          "output_type": "stream",
          "text": [
            "w\n",
            " [[-3]\n",
            " [ 1]\n",
            " [-1]\n",
            " [ 3]\n",
            " [ 9]\n",
            " [ 1]\n",
            " [ 1]\n",
            " [ 9]\n",
            " [ 1]]\n",
            "w_transpose\n",
            " [[-3  1 -1  3  9  1  1  9  1]]\n",
            "\n",
            "Big W\n",
            " [[  9  -3   3  -9 -27  -3  -3 -27  -3]\n",
            " [ -3   1  -1   3   9   1   1   9   1]\n",
            " [  3  -1   1  -3  -9  -1  -1  -9  -1]\n",
            " [ -9   3  -3   9  27   3   3  27   3]\n",
            " [-27   9  -9  27  81   9   9  81   9]\n",
            " [ -3   1  -1   3   9   1   1   9   1]\n",
            " [ -3   1  -1   3   9   1   1   9   1]\n",
            " [-27   9  -9  27  81   9   9  81   9]\n",
            " [ -3   1  -1   3   9   1   1   9   1]]\n",
            "\n",
            "Big W\n",
            " (9, 9)\n"
          ],
          "name": "stdout"
        }
      ]
    },
    {
      "cell_type": "code",
      "metadata": {
        "id": "OHzZAioK0dJ5",
        "colab_type": "code",
        "colab": {}
      },
      "source": [
        ""
      ],
      "execution_count": 0,
      "outputs": []
    },
    {
      "cell_type": "code",
      "metadata": {
        "id": "tL8SZAhX8d28",
        "colab_type": "code",
        "colab": {}
      },
      "source": [
        ""
      ],
      "execution_count": 0,
      "outputs": []
    },
    {
      "cell_type": "code",
      "metadata": {
        "id": "QrHx7MT710wj",
        "colab_type": "code",
        "outputId": "9005425e-8f44-4cc0-cad8-8ffe9210c057",
        "colab": {
          "base_uri": "https://localhost:8080/",
          "height": 90
        }
      },
      "source": [
        "y\n"
      ],
      "execution_count": 45,
      "outputs": [
        {
          "output_type": "execute_result",
          "data": {
            "text/plain": [
              "array([[-3.37989837],\n",
              "       [ 1.56171548],\n",
              "       [ 0.86139084],\n",
              "       [-0.11902375]])"
            ]
          },
          "metadata": {
            "tags": []
          },
          "execution_count": 45
        }
      ]
    },
    {
      "cell_type": "code",
      "metadata": {
        "id": "KWEGqBW48a5o",
        "colab_type": "code",
        "colab": {}
      },
      "source": [
        ""
      ],
      "execution_count": 0,
      "outputs": []
    },
    {
      "cell_type": "code",
      "metadata": {
        "id": "5TeZsK0PMpN-",
        "colab_type": "code",
        "colab": {}
      },
      "source": [
        ""
      ],
      "execution_count": 0,
      "outputs": []
    },
    {
      "cell_type": "code",
      "metadata": {
        "id": "mJP5lugUM9gX",
        "colab_type": "code",
        "colab": {}
      },
      "source": [
        ""
      ],
      "execution_count": 0,
      "outputs": []
    },
    {
      "cell_type": "code",
      "metadata": {
        "id": "5hBuEZw1QTXt",
        "colab_type": "code",
        "colab": {}
      },
      "source": [
        ""
      ],
      "execution_count": 0,
      "outputs": []
    },
    {
      "cell_type": "code",
      "metadata": {
        "id": "B3kPd6qyQY5t",
        "colab_type": "code",
        "outputId": "2dd32bb6-f9a7-40ef-fbc6-ee7308c93029",
        "colab": {
          "base_uri": "https://localhost:8080/",
          "height": 1000
        }
      },
      "source": [
        "# Cálculo de la matriz a multiplicar por H\n",
        "\n",
        "A11 = H_expanded.T.dot(H_expanded) # Check if it is really doing the transpose of H_expanded\n",
        "A12 = np.zeros((2*k,2*k))\n",
        "A13 = -H_expanded.T.dot(y) # Check if it is really doing the transpose of H_expanded\n",
        "A1X = np.column_stack((np.column_stack((A11, A12)), A13))\n",
        "print(\"\\nFILA 1\")\n",
        "print(\"\\n\",A1X)\n",
        "print(\"\\n\",A11)\n",
        "print(\"\\n\",A12)\n",
        "print(\"\\n\",A13)\n",
        "\n",
        "print(\"\\nFILA 2\")\n",
        "A2X = np.zeros((2*k,A1X.shape[1]))\n",
        "print(\"\\n\",A2X)\n",
        "\n",
        "print(\"\\nFILA 3\")\n",
        "A31 = (-y.T).dot(H_expanded)\n",
        "print(\"\\n\",A31)\n",
        "A32= np.zeros((1,2*k))\n",
        "print(\"\\n\",A32)\n",
        "A33 = (y.T).dot(y)\n",
        "print(\"\\n\",A33)\n",
        "\n",
        "A3X = np.column_stack((np.column_stack((A31, A32)), A33))\n",
        "print(\"\\n\",A3X)\n",
        "\n",
        "A = np.concatenate((A1X,A2X,A3X))\n",
        "print(\"\\n\",A)\n",
        "print(\"\\n\",A.shape)\n",
        "\n",
        "# A = [H'*H zeros(2*N,2*N) -H'*y; zeros(2*N,4*N+1); -y'*H zeros(1,2*N) y'*y];\n"
      ],
      "execution_count": 54,
      "outputs": [
        {
          "output_type": "stream",
          "text": [
            "\n",
            "FILA 1\n",
            "\n",
            " [[ 2.37208687e-01  1.01200741e-01 -2.11825039e-19  6.04538483e-01\n",
            "   0.00000000e+00  0.00000000e+00  0.00000000e+00  0.00000000e+00\n",
            "  -1.26116611e+00]\n",
            " [ 1.01200741e-01  2.11268499e+00 -6.04538483e-01 -8.09511849e-19\n",
            "   0.00000000e+00  0.00000000e+00  0.00000000e+00  0.00000000e+00\n",
            "  -2.73908069e+00]\n",
            " [-2.11825039e-19 -6.04538483e-01  2.37208687e-01  1.01200741e-01\n",
            "   0.00000000e+00  0.00000000e+00  0.00000000e+00  0.00000000e+00\n",
            "   5.87806670e-01]\n",
            " [ 6.04538483e-01 -8.09511849e-19  1.01200741e-01  2.11268499e+00\n",
            "   0.00000000e+00  0.00000000e+00  0.00000000e+00  0.00000000e+00\n",
            "  -4.67227893e+00]]\n",
            "\n",
            " [[ 2.37208687e-01  1.01200741e-01 -2.11825039e-19  6.04538483e-01]\n",
            " [ 1.01200741e-01  2.11268499e+00 -6.04538483e-01 -8.09511849e-19]\n",
            " [-2.11825039e-19 -6.04538483e-01  2.37208687e-01  1.01200741e-01]\n",
            " [ 6.04538483e-01 -8.09511849e-19  1.01200741e-01  2.11268499e+00]]\n",
            "\n",
            " [[0. 0. 0. 0.]\n",
            " [0. 0. 0. 0.]\n",
            " [0. 0. 0. 0.]\n",
            " [0. 0. 0. 0.]]\n",
            "\n",
            " [[-1.26116611]\n",
            " [-2.73908069]\n",
            " [ 0.58780667]\n",
            " [-4.67227893]]\n",
            "\n",
            "FILA 2\n",
            "\n",
            " [[0. 0. 0. 0. 0. 0. 0. 0. 0.]\n",
            " [0. 0. 0. 0. 0. 0. 0. 0. 0.]\n",
            " [0. 0. 0. 0. 0. 0. 0. 0. 0.]\n",
            " [0. 0. 0. 0. 0. 0. 0. 0. 0.]]\n",
            "\n",
            "FILA 3\n",
            "\n",
            " [[-1.26116611 -2.73908069  0.58780667 -4.67227893]]\n",
            "\n",
            " [[0. 0. 0. 0.]]\n",
            "\n",
            " [[14.61882907]]\n",
            "\n",
            " [[-1.26116611 -2.73908069  0.58780667 -4.67227893  0.          0.\n",
            "   0.          0.         14.61882907]]\n",
            "\n",
            " [[ 2.37208687e-01  1.01200741e-01 -2.11825039e-19  6.04538483e-01\n",
            "   0.00000000e+00  0.00000000e+00  0.00000000e+00  0.00000000e+00\n",
            "  -1.26116611e+00]\n",
            " [ 1.01200741e-01  2.11268499e+00 -6.04538483e-01 -8.09511849e-19\n",
            "   0.00000000e+00  0.00000000e+00  0.00000000e+00  0.00000000e+00\n",
            "  -2.73908069e+00]\n",
            " [-2.11825039e-19 -6.04538483e-01  2.37208687e-01  1.01200741e-01\n",
            "   0.00000000e+00  0.00000000e+00  0.00000000e+00  0.00000000e+00\n",
            "   5.87806670e-01]\n",
            " [ 6.04538483e-01 -8.09511849e-19  1.01200741e-01  2.11268499e+00\n",
            "   0.00000000e+00  0.00000000e+00  0.00000000e+00  0.00000000e+00\n",
            "  -4.67227893e+00]\n",
            " [ 0.00000000e+00  0.00000000e+00  0.00000000e+00  0.00000000e+00\n",
            "   0.00000000e+00  0.00000000e+00  0.00000000e+00  0.00000000e+00\n",
            "   0.00000000e+00]\n",
            " [ 0.00000000e+00  0.00000000e+00  0.00000000e+00  0.00000000e+00\n",
            "   0.00000000e+00  0.00000000e+00  0.00000000e+00  0.00000000e+00\n",
            "   0.00000000e+00]\n",
            " [ 0.00000000e+00  0.00000000e+00  0.00000000e+00  0.00000000e+00\n",
            "   0.00000000e+00  0.00000000e+00  0.00000000e+00  0.00000000e+00\n",
            "   0.00000000e+00]\n",
            " [ 0.00000000e+00  0.00000000e+00  0.00000000e+00  0.00000000e+00\n",
            "   0.00000000e+00  0.00000000e+00  0.00000000e+00  0.00000000e+00\n",
            "   0.00000000e+00]\n",
            " [-1.26116611e+00 -2.73908069e+00  5.87806670e-01 -4.67227893e+00\n",
            "   0.00000000e+00  0.00000000e+00  0.00000000e+00  0.00000000e+00\n",
            "   1.46188291e+01]]\n",
            "\n",
            " (9, 9)\n"
          ],
          "name": "stdout"
        }
      ]
    },
    {
      "cell_type": "code",
      "metadata": {
        "id": "YSDu3ElgShdw",
        "colab_type": "code",
        "colab": {
          "base_uri": "https://localhost:8080/",
          "height": 345
        },
        "outputId": "40516ec9-8cf5-4677-9289-c46741b00b1e"
      },
      "source": [
        ""
      ],
      "execution_count": 56,
      "outputs": [
        {
          "output_type": "execute_result",
          "data": {
            "text/plain": [
              "array([[ 0.17392793,  0.97637835, -0.14898517,  0.74712049,  0.        ,\n",
              "         0.        ,  0.        ,  0.        , -3.17580974],\n",
              "       [-0.05797598, -0.32545945,  0.04966172, -0.24904016,  0.        ,\n",
              "         0.        ,  0.        ,  0.        ,  1.05860325],\n",
              "       [ 0.05797598,  0.32545945, -0.04966172,  0.24904016,  0.        ,\n",
              "         0.        ,  0.        ,  0.        , -1.05860325],\n",
              "       [-0.17392793, -0.97637835,  0.14898517, -0.74712049,  0.        ,\n",
              "         0.        ,  0.        ,  0.        ,  3.17580974],\n",
              "       [-0.52178379, -2.92913504,  0.44695552, -2.24136146,  0.        ,\n",
              "         0.        ,  0.        ,  0.        ,  9.52742922],\n",
              "       [-0.05797598, -0.32545945,  0.04966172, -0.24904016,  0.        ,\n",
              "         0.        ,  0.        ,  0.        ,  1.05860325],\n",
              "       [-0.05797598, -0.32545945,  0.04966172, -0.24904016,  0.        ,\n",
              "         0.        ,  0.        ,  0.        ,  1.05860325],\n",
              "       [-0.52178379, -2.92913504,  0.44695552, -2.24136146,  0.        ,\n",
              "         0.        ,  0.        ,  0.        ,  9.52742922],\n",
              "       [-0.05797598, -0.32545945,  0.04966172, -0.24904016,  0.        ,\n",
              "         0.        ,  0.        ,  0.        ,  1.05860325]])"
            ]
          },
          "metadata": {
            "tags": []
          },
          "execution_count": 56
        }
      ]
    },
    {
      "cell_type": "code",
      "metadata": {
        "id": "kwFOwqGPEPNy",
        "colab_type": "code",
        "colab": {}
      },
      "source": [
        "testing_api"
      ],
      "execution_count": 0,
      "outputs": []
    }
  ]
}