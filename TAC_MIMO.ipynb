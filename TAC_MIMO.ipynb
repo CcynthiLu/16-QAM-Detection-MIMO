{
  "nbformat": 4,
  "nbformat_minor": 0,
  "metadata": {
    "colab": {
      "name": "TAC-MIMO",
      "provenance": [],
      "collapsed_sections": [],
      "machine_shape": "hm",
      "include_colab_link": true
    },
    "kernelspec": {
      "name": "python3",
      "display_name": "Python 3"
    }
  },
  "cells": [
    {
      "cell_type": "markdown",
      "metadata": {
        "id": "view-in-github",
        "colab_type": "text"
      },
      "source": [
        "<a href=\"https://colab.research.google.com/github/betegon/16-QAM-Detection-MIMO/blob/master/TAC_MIMO.ipynb\" target=\"_parent\"><img src=\"https://colab.research.google.com/assets/colab-badge.svg\" alt=\"Open In Colab\"/></a>"
      ]
    },
    {
      "cell_type": "code",
      "metadata": {
        "id": "GfqSLBPKr_Uh",
        "colab_type": "code",
        "colab": {}
      },
      "source": [
        "import math\n",
        "import numpy as np\n"
      ],
      "execution_count": 0,
      "outputs": []
    },
    {
      "cell_type": "markdown",
      "metadata": {
        "id": "0So5pVnLtFSD",
        "colab_type": "text"
      },
      "source": [
        "## EJEMPLO CON 2 antenas\n"
      ]
    },
    {
      "cell_type": "code",
      "metadata": {
        "id": "Pb0PM0pMsahp",
        "colab_type": "code",
        "colab": {}
      },
      "source": [
        "k = 2 # 2 antennas"
      ],
      "execution_count": 0,
      "outputs": []
    },
    {
      "cell_type": "code",
      "metadata": {
        "id": "p4WWF_n8tBo_",
        "colab_type": "code",
        "outputId": "e8f4eb8d-d9f6-4039-c39e-c20fff536e25",
        "colab": {
          "base_uri": "https://localhost:8080/",
          "height": 217
        }
      },
      "source": [
        "s_matrix = np.array([[1, 1],[1, 1]])\n",
        "print(s_matrix)\n",
        "s = (np.array([s_matrix.flatten('F')])).transpose()\n",
        "print(\"s\\n\",s)\n",
        "t = s**2\n",
        "print(t)"
      ],
      "execution_count": 79,
      "outputs": [
        {
          "output_type": "stream",
          "text": [
            "[[1 1]\n",
            " [1 1]]\n",
            "s\n",
            " [[1]\n",
            " [1]\n",
            " [1]\n",
            " [1]]\n",
            "[[1]\n",
            " [1]\n",
            " [1]\n",
            " [1]]\n"
          ],
          "name": "stdout"
        }
      ]
    },
    {
      "cell_type": "code",
      "metadata": {
        "id": "FiM7m-pxyg83",
        "colab_type": "code",
        "outputId": "fb664e61-f134-41d5-a105-ff450fa11162",
        "colab": {
          "base_uri": "https://localhost:8080/",
          "height": 290
        }
      },
      "source": [
        "# CREACIÓN DE H \n",
        "\n",
        "k = 2  # number of antennas\n",
        "# H is CN(0,1)\n",
        "mu = np.zeros(2*k)\n",
        "sigma = np.ones((k,k*2))\n",
        "\n",
        "\n",
        "H = (1/np.sqrt(2))*np.random.normal(loc=mu, scale=sigma, size=(k,k*2)).view(np.complex128) \n",
        "print(H)\n",
        "a = np.column_stack((np.real(H), -np.imag(H)))\n",
        "print(\"Fila1: \\n\",a,\"\\n\")\n",
        "b = np.column_stack((np.imag(H), np.real(H)))\n",
        "print(\"Fila2\\n\",b,\"\\n\")\n",
        "H_expanded = np.concatenate((a,b), axis=0)\n",
        "print(\"Matriz H expandida\\n\",H_expanded)"
      ],
      "execution_count": 80,
      "outputs": [
        {
          "output_type": "stream",
          "text": [
            "[[ 1.14858562-0.43257711j -0.37347383-0.75870339j]\n",
            " [ 0.6119356 -1.62743362j  1.23376823-0.53825456j]]\n",
            "Fila1: \n",
            " [[ 1.14858562 -0.37347383  0.43257711  0.75870339]\n",
            " [ 0.6119356   1.23376823  1.62743362  0.53825456]] \n",
            "\n",
            "Fila2\n",
            " [[-0.43257711 -0.75870339  1.14858562 -0.37347383]\n",
            " [-1.62743362 -0.53825456  0.6119356   1.23376823]] \n",
            "\n",
            "Matriz H expandida\n",
            " [[ 1.14858562 -0.37347383  0.43257711  0.75870339]\n",
            " [ 0.6119356   1.23376823  1.62743362  0.53825456]\n",
            " [-0.43257711 -0.75870339  1.14858562 -0.37347383]\n",
            " [-1.62743362 -0.53825456  0.6119356   1.23376823]]\n"
          ],
          "name": "stdout"
        }
      ]
    },
    {
      "cell_type": "code",
      "metadata": {
        "id": "1oMcnp_eRce6",
        "colab_type": "code",
        "colab": {}
      },
      "source": [
        "def awgn(signal, snr, seed=False):\n",
        "    \"\"\" Generate Aditive White Gaussian Noise (AWGN) from an input signal.\n",
        "\n",
        "    Args:\n",
        "        signal  (np.array): Input signal. e.g. signal = np.array([[1, 2.3, -1]])\n",
        "        snr        (float): Signal-to-noise ratio in dB.\n",
        "        seed        (bool): Set seed to reproduce results (good for debugging).\n",
        "                            Defaults to False.\n",
        "\n",
        "    Returns:\n",
        "        noise (np.array): AWGN generated from an input signal.\n",
        "\n",
        "    \"\"\"\n",
        "    if seed: np.random.seed(1)\n",
        "    sigpower = sum([ math.pow(abs(signal[i]),2) for i in range(len(signal)) ])\n",
        "    sigpower = sigpower / len(signal)\n",
        "    noisepower = sigpower / (math.pow(10,snr/10))\n",
        "    noise = np.random.normal(0, np.sqrt(noisepower), len(signal))\n",
        "    return np.array([noise]).T"
      ],
      "execution_count": 0,
      "outputs": []
    },
    {
      "cell_type": "code",
      "metadata": {
        "id": "WY6X7Cn80-3X",
        "colab_type": "code",
        "outputId": "93fa7ae9-502d-4fed-ab44-ed8b3561a1f9",
        "colab": {
          "base_uri": "https://localhost:8080/",
          "height": 454
        }
      },
      "source": [
        "# y = H*s+w;      \n",
        "mu = np.zeros(k)\n",
        "sigma = np.ones((k,k))\n",
        "snr = 20\n",
        "\n",
        "noise = awgn(s,snr)\n",
        "# noise = np.random.normal(loc=mu, scale=sigma, size=(k,k)).view(np.complex128) \n",
        "# noise = np.concatenate((np.real(noise), np.imag(noise)), axis=0)\n",
        "\n",
        "\n",
        "\n",
        "y = H_expanded.dot(s) + noise\n",
        "print(\"\\nH\\n\",H_expanded)\n",
        "print(\"\\ns\\n\",s)\n",
        "# print(\"\\nnoise\\n\",noise)\n",
        "print(\"\\nnoise \\n\", noise)\n",
        "print(\"\\ny\\n\",y)"
      ],
      "execution_count": 82,
      "outputs": [
        {
          "output_type": "stream",
          "text": [
            "\n",
            "H\n",
            " [[ 1.14858562 -0.37347383  0.43257711  0.75870339]\n",
            " [ 0.6119356   1.23376823  1.62743362  0.53825456]\n",
            " [-0.43257711 -0.75870339  1.14858562 -0.37347383]\n",
            " [-1.62743362 -0.53825456  0.6119356   1.23376823]]\n",
            "\n",
            "s\n",
            " [[1]\n",
            " [1]\n",
            " [1]\n",
            " [1]]\n",
            "\n",
            "noise \n",
            " [[ 0.03190391]\n",
            " [-0.02493704]\n",
            " [ 0.14621079]\n",
            " [-0.20601407]]\n",
            "\n",
            "y\n",
            " [[ 1.9982962 ]\n",
            " [ 3.98645498]\n",
            " [-0.26995791]\n",
            " [-0.52599842]]\n"
          ],
          "name": "stdout"
        }
      ]
    },
    {
      "cell_type": "code",
      "metadata": {
        "id": "d0oPfqaxuZOG",
        "colab_type": "code",
        "outputId": "bd5aa4c7-3d35-481c-9ce6-96168386329a",
        "colab": {
          "base_uri": "https://localhost:8080/",
          "height": 490
        }
      },
      "source": [
        "## CALCULO DE W (variable a minimizar)\n",
        "w = np.concatenate((s,t,[[1]]))\n",
        "w_transpose = w.transpose()\n",
        "print(\"w\\n\",w)\n",
        "print(\"w_transpose\\n\",w_transpose)\n",
        "\n",
        "W = w.dot(w_transpose)\n",
        "print(\"\\nBig W\\n\",W)\n",
        "print(\"\\nBig W\\n\",W.shape)"
      ],
      "execution_count": 83,
      "outputs": [
        {
          "output_type": "stream",
          "text": [
            "w\n",
            " [[1]\n",
            " [1]\n",
            " [1]\n",
            " [1]\n",
            " [1]\n",
            " [1]\n",
            " [1]\n",
            " [1]\n",
            " [1]]\n",
            "w_transpose\n",
            " [[1 1 1 1 1 1 1 1 1]]\n",
            "\n",
            "Big W\n",
            " [[1 1 1 1 1 1 1 1 1]\n",
            " [1 1 1 1 1 1 1 1 1]\n",
            " [1 1 1 1 1 1 1 1 1]\n",
            " [1 1 1 1 1 1 1 1 1]\n",
            " [1 1 1 1 1 1 1 1 1]\n",
            " [1 1 1 1 1 1 1 1 1]\n",
            " [1 1 1 1 1 1 1 1 1]\n",
            " [1 1 1 1 1 1 1 1 1]\n",
            " [1 1 1 1 1 1 1 1 1]]\n",
            "\n",
            "Big W\n",
            " (9, 9)\n"
          ],
          "name": "stdout"
        }
      ]
    },
    {
      "cell_type": "code",
      "metadata": {
        "id": "OHzZAioK0dJ5",
        "colab_type": "code",
        "colab": {}
      },
      "source": [
        ""
      ],
      "execution_count": 0,
      "outputs": []
    },
    {
      "cell_type": "code",
      "metadata": {
        "id": "tL8SZAhX8d28",
        "colab_type": "code",
        "colab": {}
      },
      "source": [
        ""
      ],
      "execution_count": 0,
      "outputs": []
    },
    {
      "cell_type": "code",
      "metadata": {
        "id": "QrHx7MT710wj",
        "colab_type": "code",
        "outputId": "0b73af72-4903-4d8a-c7fd-c3ff569abdc1",
        "colab": {
          "base_uri": "https://localhost:8080/",
          "height": 90
        }
      },
      "source": [
        "y\n"
      ],
      "execution_count": 84,
      "outputs": [
        {
          "output_type": "execute_result",
          "data": {
            "text/plain": [
              "array([[ 1.9982962 ],\n",
              "       [ 3.98645498],\n",
              "       [-0.26995791],\n",
              "       [-0.52599842]])"
            ]
          },
          "metadata": {
            "tags": []
          },
          "execution_count": 84
        }
      ]
    },
    {
      "cell_type": "code",
      "metadata": {
        "id": "KWEGqBW48a5o",
        "colab_type": "code",
        "colab": {}
      },
      "source": [
        ""
      ],
      "execution_count": 0,
      "outputs": []
    },
    {
      "cell_type": "code",
      "metadata": {
        "id": "5TeZsK0PMpN-",
        "colab_type": "code",
        "colab": {}
      },
      "source": [
        ""
      ],
      "execution_count": 0,
      "outputs": []
    },
    {
      "cell_type": "code",
      "metadata": {
        "id": "mJP5lugUM9gX",
        "colab_type": "code",
        "colab": {}
      },
      "source": [
        ""
      ],
      "execution_count": 0,
      "outputs": []
    },
    {
      "cell_type": "code",
      "metadata": {
        "id": "5hBuEZw1QTXt",
        "colab_type": "code",
        "colab": {}
      },
      "source": [
        ""
      ],
      "execution_count": 0,
      "outputs": []
    },
    {
      "cell_type": "code",
      "metadata": {
        "id": "B3kPd6qyQY5t",
        "colab_type": "code",
        "outputId": "38e6b57c-313a-47d5-ca07-81fd47441352",
        "colab": {
          "base_uri": "https://localhost:8080/",
          "height": 854
        }
      },
      "source": [
        "# Cálculo de la matriz a multiplicar por H\n",
        "\n",
        "A11 = H_expanded.T.dot(H_expanded) # Check if it is really doing the transpose of H_expanded\n",
        "A12 = np.zeros((2*k,2*k))\n",
        "A13 = -H_expanded.T.dot(y) # Check if it is really doing the transpose of H_expanded\n",
        "A1X = np.column_stack((np.column_stack((A11, A12)), A13))\n",
        "print(\"\\nFILA 1\")\n",
        "print(\"\\n\",A1X)\n",
        "\n",
        "print(\"\\nFILA 2\")\n",
        "A2X = np.zeros((2*k,A1X.shape[1]))\n",
        "print(\"\\n\",A2X)\n",
        "\n",
        "print(\"\\nFILA 3\")\n",
        "A31 = (-y.T).dot(H_expanded)\n",
        "A32= np.zeros((1,2*k))\n",
        "A33 = (y.T).dot(y)\n",
        "A3X = np.column_stack((np.column_stack((A31, A32)), A33))\n",
        "A3X = np.column_stack((A31, A32, A33))\n",
        "print(\"\\n\",A3X)\n",
        "\n",
        "A = np.concatenate((A1X,A2X,A3X))\n",
        "print(\"\\n Matriz A\")\n",
        "print(\"\\n\",A)\n",
        "print(\"\\n\",A.shape)\n",
        "\n",
        "# A = [H'*H zeros(2*N,2*N) -H'*y; zeros(2*N,4*N+1); -y'*H zeros(1,2*N) y'*y];\n"
      ],
      "execution_count": 85,
      "outputs": [
        {
          "output_type": "stream",
          "text": [
            "\n",
            "FILA 1\n",
            "\n",
            " [[ 4.52937725  1.53019133  0.         -0.64550674  0.          0.\n",
            "   0.          0.         -5.70747314]\n",
            " [ 1.53019133  2.52701555  0.64550674  0.          0.          0.\n",
            "   0.          0.         -4.6599892 ]\n",
            " [ 0.          0.64550674  4.52937725  1.53019133  0.          0.\n",
            "   0.          0.         -6.72016111]\n",
            " [-0.64550674  0.          1.53019133  2.52701555  0.          0.\n",
            "   0.          0.         -3.11370375]]\n",
            "\n",
            "FILA 2\n",
            "\n",
            " [[0. 0. 0. 0. 0. 0. 0. 0. 0.]\n",
            " [0. 0. 0. 0. 0. 0. 0. 0. 0.]\n",
            " [0. 0. 0. 0. 0. 0. 0. 0. 0.]\n",
            " [0. 0. 0. 0. 0. 0. 0. 0. 0.]]\n",
            "\n",
            "FILA 3\n",
            "\n",
            " [[-5.70747314 -4.6599892  -6.72016111 -3.11370375  0.          0.\n",
            "   0.          0.         20.2345626 ]]\n",
            "\n",
            " Matriz A\n",
            "\n",
            " [[ 4.52937725  1.53019133  0.         -0.64550674  0.          0.\n",
            "   0.          0.         -5.70747314]\n",
            " [ 1.53019133  2.52701555  0.64550674  0.          0.          0.\n",
            "   0.          0.         -4.6599892 ]\n",
            " [ 0.          0.64550674  4.52937725  1.53019133  0.          0.\n",
            "   0.          0.         -6.72016111]\n",
            " [-0.64550674  0.          1.53019133  2.52701555  0.          0.\n",
            "   0.          0.         -3.11370375]\n",
            " [ 0.          0.          0.          0.          0.          0.\n",
            "   0.          0.          0.        ]\n",
            " [ 0.          0.          0.          0.          0.          0.\n",
            "   0.          0.          0.        ]\n",
            " [ 0.          0.          0.          0.          0.          0.\n",
            "   0.          0.          0.        ]\n",
            " [ 0.          0.          0.          0.          0.          0.\n",
            "   0.          0.          0.        ]\n",
            " [-5.70747314 -4.6599892  -6.72016111 -3.11370375  0.          0.\n",
            "   0.          0.         20.2345626 ]]\n",
            "\n",
            " (9, 9)\n"
          ],
          "name": "stdout"
        }
      ]
    },
    {
      "cell_type": "code",
      "metadata": {
        "id": "YSDu3ElgShdw",
        "colab_type": "code",
        "colab": {}
      },
      "source": [
        ""
      ],
      "execution_count": 0,
      "outputs": []
    },
    {
      "cell_type": "code",
      "metadata": {
        "id": "kwFOwqGPEPNy",
        "colab_type": "code",
        "outputId": "6e86ea68-c7bb-49f8-ed3b-85937e4b7013",
        "colab": {
          "base_uri": "https://localhost:8080/",
          "height": 363
        }
      },
      "source": [
        "import cvxpy as cp\n",
        "# Remove exponential notation\n",
        "# np.set_printoptions(suppress=True)\n",
        "\n",
        "\n",
        "# Problem data.\n",
        "np.random.seed(1)\n",
        "# print(A)\n",
        "k = 2 # number of antennas (TX y RX)\n",
        "zero_array = np.zeros(2*k)\n",
        "# m = 2\n",
        "# n = 2\n",
        "# A = np.random.randn(m, n)\n",
        "# b = np.random.randn(n,1)\n",
        "#  2x2 2x1 = 2x1\n",
        "# c = cp.matmul(A,b)\n",
        "# print(c)\n",
        "\n",
        "# Construct the problem.\n",
        "W = cp.Variable((9,9), PSD=True)\n",
        "\n",
        "objective = cp.Minimize(cp.trace(cp.matmul(W,A)))\n",
        "# objective = cp.Minimize(cp.trace(W@A))\n",
        "constraints = [W >> 0, \n",
        "               cp.diag(W[0:2*k, 0:2*k]) - W[2*k:4*k,4*k] == 0,\n",
        "               cp.diag(W[2*k:4*k, 2*k:4*k]) - 10*W[2*k:4*k,4*k] + 9*np.ones((2*k)) == 0,\n",
        "               W[4*k, 4*k] == 1 ]\n",
        "\n",
        "'''\n",
        "subject to:\n",
        "1.  W >> 0 (semidefinida positiva)\n",
        "2. diag(W(1:2*N,1:2*N)) - W(2*N+1:4*N,4*N+1) == 0\n",
        "'''\n",
        "\n",
        "prob = cp.Problem(objective, constraints)\n",
        "prob.solve()\n",
        "\n",
        "# print(\"Optimal value\", prob.solve())\n",
        "print(\"Optimal value of W\")\n",
        "print(W.value) # A numpy ndarray."
      ],
      "execution_count": 86,
      "outputs": [
        {
          "output_type": "stream",
          "text": [
            "Optimal value of W\n",
            "[[1.13329431 1.0645696  1.06844226 1.06455346 1.20644202 1.06454351\n",
            "  1.07231171 1.06455183 1.06457474]\n",
            " [1.0645696  1.00000685 1.00364854 0.99999629 1.13328661 0.99998554\n",
            "  1.00728684 0.99999698 1.00001618]\n",
            " [1.06844226 1.00364854 1.00729724 1.0036337  1.13739849 1.00362272\n",
            "  1.01094822 1.00363423 1.00365337]\n",
            " [1.06455346 0.99999629 1.0036337  0.99998703 1.1332634  0.99997218\n",
            "  1.00726788 0.99997731 1.00000141]\n",
            " [1.20644202 1.13328661 1.13739849 1.1332634  2.33285146 1.13271538\n",
            "  1.31440019 1.13433884 1.13328932]\n",
            " [1.06454351 0.99998554 1.00362272 0.99997218 1.13271538 0.99997138\n",
            "  1.00730387 0.99996193 0.99999645]\n",
            " [1.07231171 1.00728684 1.01094822 1.00726788 1.31440019 1.00730387\n",
            "  1.07289259 1.0073996  1.00728998]\n",
            " [1.06455183 0.99999698 1.00363423 0.99997731 1.13433884 0.99996193\n",
            "  1.0073996  0.99997904 0.99999873]\n",
            " [1.06457474 1.00001618 1.00365337 1.00000141 1.13328932 0.99999645\n",
            "  1.00728998 0.99999873 1.0000173 ]]\n"
          ],
          "name": "stdout"
        }
      ]
    },
    {
      "cell_type": "code",
      "metadata": {
        "id": "bfmglPbmdHZ4",
        "colab_type": "code",
        "outputId": "ae6b3145-398f-41d3-d9ce-60fb81864965",
        "colab": {
          "base_uri": "https://localhost:8080/",
          "height": 545
        }
      },
      "source": [
        "W11=W.value[0:2*k,0:2*k]\n",
        "print(\"Esto es W11:\",W11)\n",
        "print(\"\\n\")\n",
        "W13=W.value[0:2*k,4*k]\n",
        "print(\"Estos es W13:\",W13)\n",
        "print(\"\\n\")\n",
        "W31=W.value[4*k,0:2*k]\n",
        "print(\"Estos es W31:\",W31)\n",
        "print(\"\\n\")\n",
        "W_1113=np.column_stack((W11,W13))\n",
        "print(\"Column stack\",W_1113)\n",
        "one=np.append(W31,1)\n",
        "one = np.array([one])\n",
        "print(\"\\n\")\n",
        "print(one)\n",
        "print(\"\\n\")\n",
        "print(W_1113.shape)\n",
        "print(one.shape)\n",
        "W_ED = np.concatenate((W_1113, one))\n",
        "print(\"W_ED\\n\",W_ED)"
      ],
      "execution_count": 87,
      "outputs": [
        {
          "output_type": "stream",
          "text": [
            "Esto es W11: [[1.13329431 1.0645696  1.06844226 1.06455346]\n",
            " [1.0645696  1.00000685 1.00364854 0.99999629]\n",
            " [1.06844226 1.00364854 1.00729724 1.0036337 ]\n",
            " [1.06455346 0.99999629 1.0036337  0.99998703]]\n",
            "\n",
            "\n",
            "Estos es W13: [1.06457474 1.00001618 1.00365337 1.00000141]\n",
            "\n",
            "\n",
            "Estos es W31: [1.06457474 1.00001618 1.00365337 1.00000141]\n",
            "\n",
            "\n",
            "Column stack [[1.13329431 1.0645696  1.06844226 1.06455346 1.06457474]\n",
            " [1.0645696  1.00000685 1.00364854 0.99999629 1.00001618]\n",
            " [1.06844226 1.00364854 1.00729724 1.0036337  1.00365337]\n",
            " [1.06455346 0.99999629 1.0036337  0.99998703 1.00000141]]\n",
            "\n",
            "\n",
            "[[1.06457474 1.00001618 1.00365337 1.00000141 1.        ]]\n",
            "\n",
            "\n",
            "(4, 5)\n",
            "(1, 5)\n",
            "W_ED\n",
            " [[1.13329431 1.0645696  1.06844226 1.06455346 1.06457474]\n",
            " [1.0645696  1.00000685 1.00364854 0.99999629 1.00001618]\n",
            " [1.06844226 1.00364854 1.00729724 1.0036337  1.00365337]\n",
            " [1.06455346 0.99999629 1.0036337  0.99998703 1.00000141]\n",
            " [1.06457474 1.00001618 1.00365337 1.00000141 1.        ]]\n"
          ],
          "name": "stdout"
        }
      ]
    },
    {
      "cell_type": "code",
      "metadata": {
        "id": "F7_skraAdekG",
        "colab_type": "code",
        "colab": {}
      },
      "source": [
        "#quantiz version BT\n",
        "def quantiz(entry, symbols):\n",
        "    result = np.empty((len(entry),1))\n",
        "    for i in range(len(entry)):\n",
        "        minimum = float(\"inf\")\n",
        "        for val in symbols:\n",
        "            if abs(val - entry[i]) < minimum:\n",
        "                result[i,0] = val\n",
        "                minimum = abs(val - entry[i])\n",
        "    return result"
      ],
      "execution_count": 0,
      "outputs": []
    },
    {
      "cell_type": "code",
      "metadata": {
        "id": "M_urPnxxNYh0",
        "colab_type": "code",
        "outputId": "4699defd-6efe-456e-b714-2b2869909793",
        "colab": {
          "base_uri": "https://localhost:8080/",
          "height": 90
        }
      },
      "source": [
        "#simple quantization \n",
        "\n",
        "valores=W.value[0:2*k,4*k]\n",
        "print(quantiz(valores,s))"
      ],
      "execution_count": 89,
      "outputs": [
        {
          "output_type": "stream",
          "text": [
            "[[1.]\n",
            " [1.]\n",
            " [1.]\n",
            " [1.]]\n"
          ],
          "name": "stdout"
        }
      ]
    },
    {
      "cell_type": "code",
      "metadata": {
        "id": "CtlRTrm-NZct",
        "colab_type": "code",
        "outputId": "ec866900-345f-4810-8eb3-b1e681a03d37",
        "colab": {
          "base_uri": "https://localhost:8080/",
          "height": 563
        }
      },
      "source": [
        "#eigenvalue descomposition\n",
        "\n",
        "u,s,v=np.linalg.svd(W_ED)#este te calcula svd directamente\n",
        "print(\"Autovalores\",s)\n",
        "print (\"\\n\")\n",
        "print (W_ED)\n",
        "N=2\n",
        "print (\"\\n\")\n",
        "print(v)\n",
        "print (\"\\n\")\n",
        "print(v[0,0:2*N])\n",
        "print (\"\\n\")\n",
        "print(v[0,2*N])\n",
        "eigen=v[0,0:2*N]/v[0,2*N]\n",
        "eigen_trans=eigen.transpose()\n",
        "print(\"\\n\")\n",
        "print(\"ESto es el cociente:\",eigen)\n",
        "print(\"\\n\")\n",
        "simb=[-3,-1, 1 ,3]\n",
        "quantiz(eigen_trans,simb)"
      ],
      "execution_count": 90,
      "outputs": [
        {
          "output_type": "stream",
          "text": [
            "Autovalores [5.14060412 0.00001715 0.00000401 0.00000337 0.00000218]\n",
            "\n",
            "\n",
            "[[1.13329431 1.0645696  1.06844226 1.06455346 1.06457474]\n",
            " [1.0645696  1.00000685 1.00364854 0.99999629 1.00001618]\n",
            " [1.06844226 1.00364854 1.00729724 1.0036337  1.00365337]\n",
            " [1.06455346 0.99999629 1.0036337  0.99998703 1.00000141]\n",
            " [1.06457474 1.00001618 1.00365337 1.00000141 1.        ]]\n",
            "\n",
            "\n",
            "[[-0.46953138 -0.44105746 -0.44266198 -0.44105174 -0.4410582 ]\n",
            " [-0.22653376 -0.27649798 -0.21389266 -0.16220001  0.89452356]\n",
            " [-0.35760048 -0.17846647 -0.26544564  0.87594151 -0.05036575]\n",
            " [-0.35006395  0.83274817 -0.41479891 -0.09594753  0.0521694 ]\n",
            " [ 0.69123069 -0.06080607 -0.7181788   0.05181761 -0.00607478]]\n",
            "\n",
            "\n",
            "[-0.46953138 -0.44105746 -0.44266198 -0.44105174]\n",
            "\n",
            "\n",
            "-0.44105819916975014\n",
            "\n",
            "\n",
            "ESto es el cociente: [1.06455652 0.99999833 1.0036362  0.99998536]\n",
            "\n",
            "\n"
          ],
          "name": "stdout"
        },
        {
          "output_type": "execute_result",
          "data": {
            "text/plain": [
              "array([[1.],\n",
              "       [1.],\n",
              "       [1.],\n",
              "       [1.]])"
            ]
          },
          "metadata": {
            "tags": []
          },
          "execution_count": 90
        }
      ]
    },
    {
      "cell_type": "code",
      "metadata": {
        "id": "6MF6jup2wbyU",
        "colab_type": "code",
        "outputId": "e464d1c4-6a02-4947-e3d0-2c6141d9be7e",
        "colab": {
          "base_uri": "https://localhost:8080/",
          "height": 35
        }
      },
      "source": [
        "from numpy import linalg as la\n",
        "\n",
        "def nearestPD(A):\n",
        "    \"\"\"Find the nearest positive-definite matrix to input\n",
        "    A Python/Numpy port of John D'Errico's `nearestSPD` MATLAB code [1], which\n",
        "    credits [2].\n",
        "    [1] https://www.mathworks.com/matlabcentral/fileexchange/42885-nearestspd\n",
        "    [2] N.J. Higham, \"Computing a nearest symmetric positive semidefinite\n",
        "    matrix\" (1988): https://doi.org/10.1016/0024-3795(88)90223-6\n",
        "    \"\"\"\n",
        "\n",
        "    B = (A + A.T) / 2\n",
        "    _, s, V = la.svd(B)\n",
        "\n",
        "    H = np.dot(V.T, np.dot(np.diag(s), V))\n",
        "\n",
        "    A2 = (B + H) / 2\n",
        "\n",
        "    A3 = (A2 + A2.T) / 2\n",
        "\n",
        "    if isPD(A3):\n",
        "        return A3\n",
        "\n",
        "    spacing = np.spacing(la.norm(A))\n",
        "    # The above is different from [1]. It appears that MATLAB's `chol` Cholesky\n",
        "    # decomposition will accept matrixes with exactly 0-eigenvalue, whereas\n",
        "    # Numpy's will not. So where [1] uses `eps(mineig)` (where `eps` is Matlab\n",
        "    # for `np.spacing`), we use the above definition. CAVEAT: our `spacing`\n",
        "    # will be much larger than [1]'s `eps(mineig)`, since `mineig` is usually on\n",
        "    # the order of 1e-16, and `eps(1e-16)` is on the order of 1e-34, whereas\n",
        "    # `spacing` will, for Gaussian random matrixes of small dimension, be on\n",
        "    # othe order of 1e-16. In practice, both ways converge, as the unit test\n",
        "    # below suggests.\n",
        "    I = np.eye(A.shape[0])\n",
        "    k = 1\n",
        "    while not isPD(A3):\n",
        "        mineig = np.min(np.real(la.eigvals(A3)))\n",
        "        A3 += I * (-mineig * k**2 + spacing)\n",
        "        k += 1\n",
        "\n",
        "    return A3\n",
        "\n",
        "def isPD(B):\n",
        "    \"\"\"Returns true when input is positive-definite, via Cholesky\"\"\"\n",
        "    try:\n",
        "        _ = la.cholesky(B)\n",
        "        return True\n",
        "    except la.LinAlgError:\n",
        "        return False\n",
        "\n",
        "if __name__ == '__main__':\n",
        "    import numpy as np\n",
        "    for i in range(10):\n",
        "        for j in range(2, 100):\n",
        "            A = np.random.randn(j, j)\n",
        "            B = nearestPD(A)\n",
        "            assert(isPD(B))\n",
        "    print('unit test passed!')"
      ],
      "execution_count": 91,
      "outputs": [
        {
          "output_type": "stream",
          "text": [
            "unit test passed!\n"
          ],
          "name": "stdout"
        }
      ]
    },
    {
      "cell_type": "code",
      "metadata": {
        "id": "QR2wjuYoNgOu",
        "colab_type": "code",
        "outputId": "77245c99-ed0d-4c19-844a-77b734e37771",
        "colab": {
          "base_uri": "https://localhost:8080/",
          "height": 545
        }
      },
      "source": [
        "#randomization \n",
        "#from scipy.linalg import cholesky\n",
        "#v2=cholesky(W_ED)\n",
        "#v=np.linalg.cholesky(W_ED)\n",
        "try:\n",
        "    v= np.linalg.cholesky(W_ED)\n",
        "    print(\"Es positiva\")\n",
        "except np.linalg.LinAlgError:\n",
        "    v = nearestPD(W_ED)\n",
        "    print(\"No Es positiva\")\n",
        "V=v.transpose()\n",
        "print(V)\n",
        "print(\"\\n\")\n",
        "r=np.random.random((2*N+1,1))\n",
        "print(\"Esto es r:\",r)\n",
        "Atransponer=V[:,0:2*N]\n",
        "a=Atransponer.transpose()\n",
        "print(\"\\n\")\n",
        "cosas=np.dot(a,r) \n",
        "print(\"\\n\")\n",
        "Btransponer=V[:,2*N]\n",
        "b=Btransponer.transpose()\n",
        "cosas1=np.dot(b,r)\n",
        "print(\"\\n\")\n",
        "Aquantiz=(cosas)/(cosas1)\n",
        "print(\"Esto es Aquantiz:\",Aquantiz)\n",
        "print(\"\\n\")\n",
        "randomization=quantiz(Aquantiz,simb)\n",
        "print(randomization)"
      ],
      "execution_count": 92,
      "outputs": [
        {
          "output_type": "stream",
          "text": [
            "No Es positiva\n",
            "[[1.13329664 1.0645696  1.0684425  1.06455428 1.0645712 ]\n",
            " [1.0645696  1.0000105  1.00364849 0.99999678 1.00001209]\n",
            " [1.0684425  1.00364849 1.00729973 1.00363435 1.00365003]\n",
            " [1.06455428 0.99999678 1.00363435 0.99998752 0.99999891]\n",
            " [1.0645712  1.00001209 1.00365003 0.99999891 1.00001373]]\n",
            "\n",
            "\n",
            "Esto es r: [[0.61982542]\n",
            " [0.72161322]\n",
            " [0.82336413]\n",
            " [0.90780977]\n",
            " [0.00391546]]\n",
            "\n",
            "\n",
            "\n",
            "\n",
            "\n",
            "\n",
            "Esto es Aquantiz: [[1.06455643]\n",
            " [0.99999829]\n",
            " [1.00363614]\n",
            " [0.99998563]]\n",
            "\n",
            "\n",
            "[[1.]\n",
            " [1.]\n",
            " [1.]\n",
            " [1.]]\n"
          ],
          "name": "stdout"
        }
      ]
    }
  ]
}