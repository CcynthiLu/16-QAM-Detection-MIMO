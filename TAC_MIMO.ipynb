{
  "nbformat": 4,
  "nbformat_minor": 0,
  "metadata": {
    "colab": {
      "name": "TAC-MIMO",
      "provenance": [],
      "collapsed_sections": [],
      "machine_shape": "hm",
      "include_colab_link": true
    },
    "kernelspec": {
      "name": "python3",
      "display_name": "Python 3"
    }
  },
  "cells": [
    {
      "cell_type": "markdown",
      "metadata": {
        "id": "view-in-github",
        "colab_type": "text"
      },
      "source": [
        "<a href=\"https://colab.research.google.com/github/betegon/16-QAM-Detection-MIMO/blob/master/TAC_MIMO.ipynb\" target=\"_parent\"><img src=\"https://colab.research.google.com/assets/colab-badge.svg\" alt=\"Open In Colab\"/></a>"
      ]
    },
    {
      "cell_type": "code",
      "metadata": {
        "id": "GfqSLBPKr_Uh",
        "colab_type": "code",
        "colab": {}
      },
      "source": [
        "import math\n",
        "import numpy as np\n"
      ],
      "execution_count": 0,
      "outputs": []
    },
    {
      "cell_type": "markdown",
      "metadata": {
        "id": "0So5pVnLtFSD",
        "colab_type": "text"
      },
      "source": [
        "## EJEMPLO CON 2 antenas\n"
      ]
    },
    {
      "cell_type": "code",
      "metadata": {
        "id": "Pb0PM0pMsahp",
        "colab_type": "code",
        "colab": {}
      },
      "source": [
        "k = 2 # 2 antennas"
      ],
      "execution_count": 0,
      "outputs": []
    },
    {
      "cell_type": "code",
      "metadata": {
        "id": "gJwld4u2yUV2",
        "colab_type": "code",
        "colab": {}
      },
      "source": [
        "# select a random sample without replacement\n",
        "from random import seed\n",
        "from random import sample\n",
        "\n",
        "def randomsimb():\n",
        "  # seed random number generator\n",
        "  # prepare a sequence\n",
        "  sequence = [-3, -1, 1, 3]\n",
        "  # select a subset without replacement\n",
        "  subset = sample(sequence, 4)\n",
        "  return np.expand_dims(subset, -1)"
      ],
      "execution_count": 0,
      "outputs": []
    },
    {
      "cell_type": "code",
      "metadata": {
        "id": "p4WWF_n8tBo_",
        "colab_type": "code",
        "outputId": "a98156df-b9f3-4b24-c114-bb99eb041864",
        "colab": {
          "base_uri": "https://localhost:8080/",
          "height": 199
        }
      },
      "source": [
        "s = randomsimb()\n",
        "print(\"forma de S\",s.shape)\n",
        "\n",
        "# s_matrix = np.array([[1, 1],[1, 1]])\n",
        "# print(s_matrix)\n",
        "# s = (np.array([s_matrix.flatten('F')])).transpose()\n",
        "# randomsimb()\n",
        "print(\"s\\n\",s)\n",
        "t = s**2\n",
        "print(t)"
      ],
      "execution_count": 20,
      "outputs": [
        {
          "output_type": "stream",
          "text": [
            "forma de S (4, 1)\n",
            "s\n",
            " [[ 1]\n",
            " [-1]\n",
            " [-3]\n",
            " [ 3]]\n",
            "[[1]\n",
            " [1]\n",
            " [9]\n",
            " [9]]\n"
          ],
          "name": "stdout"
        }
      ]
    },
    {
      "cell_type": "code",
      "metadata": {
        "id": "FiM7m-pxyg83",
        "colab_type": "code",
        "outputId": "cebb3f19-09c2-4ac1-997e-cc109154bb73",
        "colab": {
          "base_uri": "https://localhost:8080/",
          "height": 290
        }
      },
      "source": [
        "# CREACIÓN DE H \n",
        "\n",
        "k = 2  # number of antennas\n",
        "# H is CN(0,1)\n",
        "mu = np.zeros(2*k)\n",
        "sigma = np.ones((k,k*2))\n",
        "\n",
        "\n",
        "H = (1/np.sqrt(2))*np.random.normal(loc=mu, scale=sigma, size=(k,k*2)).view(np.complex128) \n",
        "print(H)\n",
        "a = np.column_stack((np.real(H), -np.imag(H)))\n",
        "print(\"Fila1: \\n\",a,\"\\n\")\n",
        "b = np.column_stack((np.imag(H), np.real(H)))\n",
        "print(\"Fila2\\n\",b,\"\\n\")\n",
        "H_expanded = np.concatenate((a,b), axis=0)\n",
        "print(\"Matriz H expandida\\n\",H_expanded)"
      ],
      "execution_count": 21,
      "outputs": [
        {
          "output_type": "stream",
          "text": [
            "[[ 1.0299355 +0.55688216j  1.0725703 +0.53126924j]\n",
            " [-0.3908438 +0.41231974j -0.25225544-0.65073368j]]\n",
            "Fila1: \n",
            " [[ 1.0299355   1.0725703  -0.55688216 -0.53126924]\n",
            " [-0.3908438  -0.25225544 -0.41231974  0.65073368]] \n",
            "\n",
            "Fila2\n",
            " [[ 0.55688216  0.53126924  1.0299355   1.0725703 ]\n",
            " [ 0.41231974 -0.65073368 -0.3908438  -0.25225544]] \n",
            "\n",
            "Matriz H expandida\n",
            " [[ 1.0299355   1.0725703  -0.55688216 -0.53126924]\n",
            " [-0.3908438  -0.25225544 -0.41231974  0.65073368]\n",
            " [ 0.55688216  0.53126924  1.0299355   1.0725703 ]\n",
            " [ 0.41231974 -0.65073368 -0.3908438  -0.25225544]]\n"
          ],
          "name": "stdout"
        }
      ]
    },
    {
      "cell_type": "code",
      "metadata": {
        "id": "1oMcnp_eRce6",
        "colab_type": "code",
        "colab": {}
      },
      "source": [
        "def awgn(signal, snr, seed=False):\n",
        "    \"\"\" Generate Aditive White Gaussian Noise (AWGN) from an input signal.\n",
        "\n",
        "    Args:\n",
        "        signal  (np.array): Input signal. e.g. signal = np.array([[1, 2.3, -1]])\n",
        "        snr        (float): Signal-to-noise ratio in dB.\n",
        "        seed        (bool): Set seed to reproduce results (good for debugging).\n",
        "                            Defaults to False.\n",
        "\n",
        "    Returns:\n",
        "        noise (np.array): AWGN generated from an input signal.\n",
        "\n",
        "    \"\"\"\n",
        "    if seed: np.random.seed(1)\n",
        "    sigpower = sum([ math.pow(abs(signal[i]),2) for i in range(len(signal)) ])\n",
        "    sigpower = sigpower / len(signal)\n",
        "    noisepower = sigpower / (math.pow(10,snr/10))\n",
        "    noise = np.random.normal(0, np.sqrt(noisepower), len(signal))\n",
        "    return np.array([noise]).T"
      ],
      "execution_count": 0,
      "outputs": []
    },
    {
      "cell_type": "code",
      "metadata": {
        "id": "WY6X7Cn80-3X",
        "colab_type": "code",
        "outputId": "773266ea-1222-4606-c40c-5cedd70cf72f",
        "colab": {
          "base_uri": "https://localhost:8080/",
          "height": 454
        }
      },
      "source": [
        "# y = H*s+w;      \n",
        "mu = np.zeros(k)\n",
        "sigma = np.ones((k,k))\n",
        "snr = 20\n",
        "\n",
        "noise = awgn(s,snr)\n",
        "# noise = np.random.normal(loc=mu, scale=sigma, size=(k,k)).view(np.complex128) \n",
        "# noise = np.concatenate((np.real(noise), np.imag(noise)), axis=0)\n",
        "\n",
        "\n",
        "\n",
        "y = H_expanded.dot(s) + noise\n",
        "print(\"\\nH\\n\",H_expanded)\n",
        "print(\"\\ns\\n\",s)\n",
        "# print(\"\\nnoise\\n\",noise)\n",
        "print(\"\\nnoise \\n\", noise)\n",
        "print(\"\\ny\\n\",y)"
      ],
      "execution_count": 23,
      "outputs": [
        {
          "output_type": "stream",
          "text": [
            "\n",
            "H\n",
            " [[ 1.0299355   1.0725703  -0.55688216 -0.53126924]\n",
            " [-0.3908438  -0.25225544 -0.41231974  0.65073368]\n",
            " [ 0.55688216  0.53126924  1.0299355   1.0725703 ]\n",
            " [ 0.41231974 -0.65073368 -0.3908438  -0.25225544]]\n",
            "\n",
            "s\n",
            " [[ 1]\n",
            " [-1]\n",
            " [-3]\n",
            " [ 3]]\n",
            "\n",
            "noise \n",
            " [[-0.14264537]\n",
            " [ 0.42334553]\n",
            " [-0.51553885]\n",
            " [ 0.07613717]]\n",
            "\n",
            "y\n",
            " [[-0.10844142]\n",
            " [ 3.47391743]\n",
            " [-0.36202153]\n",
            " [ 1.55495566]]\n"
          ],
          "name": "stdout"
        }
      ]
    },
    {
      "cell_type": "code",
      "metadata": {
        "id": "d0oPfqaxuZOG",
        "colab_type": "code",
        "outputId": "853ca35b-c180-424b-ecd1-a32c68c7e7f7",
        "colab": {
          "base_uri": "https://localhost:8080/",
          "height": 490
        }
      },
      "source": [
        "## CALCULO DE W (variable a minimizar)\n",
        "w = np.concatenate((s,t,[[1]]))\n",
        "w_transpose = w.transpose()\n",
        "print(\"w\\n\",w)\n",
        "print(\"w_transpose\\n\",w_transpose)\n",
        "\n",
        "W = w.dot(w_transpose)\n",
        "print(\"\\nBig W\\n\",W)\n",
        "print(\"\\nBig W\\n\",W.shape)"
      ],
      "execution_count": 24,
      "outputs": [
        {
          "output_type": "stream",
          "text": [
            "w\n",
            " [[ 1]\n",
            " [-1]\n",
            " [-3]\n",
            " [ 3]\n",
            " [ 1]\n",
            " [ 1]\n",
            " [ 9]\n",
            " [ 9]\n",
            " [ 1]]\n",
            "w_transpose\n",
            " [[ 1 -1 -3  3  1  1  9  9  1]]\n",
            "\n",
            "Big W\n",
            " [[  1  -1  -3   3   1   1   9   9   1]\n",
            " [ -1   1   3  -3  -1  -1  -9  -9  -1]\n",
            " [ -3   3   9  -9  -3  -3 -27 -27  -3]\n",
            " [  3  -3  -9   9   3   3  27  27   3]\n",
            " [  1  -1  -3   3   1   1   9   9   1]\n",
            " [  1  -1  -3   3   1   1   9   9   1]\n",
            " [  9  -9 -27  27   9   9  81  81   9]\n",
            " [  9  -9 -27  27   9   9  81  81   9]\n",
            " [  1  -1  -3   3   1   1   9   9   1]]\n",
            "\n",
            "Big W\n",
            " (9, 9)\n"
          ],
          "name": "stdout"
        }
      ]
    },
    {
      "cell_type": "code",
      "metadata": {
        "id": "B3kPd6qyQY5t",
        "colab_type": "code",
        "outputId": "88150e4f-9ca2-47c9-f2f5-f5698cabd057",
        "colab": {
          "base_uri": "https://localhost:8080/",
          "height": 1000
        }
      },
      "source": [
        "# Cálculo de la matriz a multiplicar por H\n",
        "\n",
        "A11 = H_expanded.T.dot(H_expanded) # Check if it is really doing the transpose of H_expanded\n",
        "A12 = np.zeros((2*k,2*k))\n",
        "A13 = -H_expanded.T.dot(y) # Check if it is really doing the transpose of H_expanded\n",
        "A1X = np.column_stack((np.column_stack((A11, A12)), A13))\n",
        "print(\"\\nFILA 1\")\n",
        "print(\"\\n\",A1X)\n",
        "\n",
        "print(\"\\nFILA 2\")\n",
        "A2X = np.zeros((2*k,A1X.shape[1]))\n",
        "print(\"\\n\",A2X)\n",
        "\n",
        "print(\"\\nFILA 3\")\n",
        "A31 = (-y.T).dot(H_expanded)\n",
        "A32= np.zeros((1,2*k))\n",
        "A33 = (y.T).dot(y)\n",
        "A3X = np.column_stack((np.column_stack((A31, A32)), A33))\n",
        "A3X = np.column_stack((A31, A32, A33))\n",
        "print(\"\\n\",A3X)\n",
        "\n",
        "A = np.concatenate((A1X,A2X,A3X))\n",
        "print(\"\\n Matriz A\")\n",
        "print(\"\\n\",A)\n",
        "print(\"\\n\",A.shape)\n",
        "\n",
        "# A = [H'*H zeros(2*N,2*N) -H'*y; zeros(2*N,4*N+1); -y'*H zeros(1,2*N) y'*y];\n"
      ],
      "execution_count": 25,
      "outputs": [
        {
          "output_type": "stream",
          "text": [
            "\n",
            "FILA 1\n",
            "\n",
            " [[ 1.69365131e+00  1.23081472e+00  4.58550766e-17 -3.08222905e-01\n",
            "   0.00000000e+00  0.00000000e+00  0.00000000e+00  0.00000000e+00\n",
            "   1.02991116e+00]\n",
            " [ 1.23081472e+00  1.91974118e+00  3.08222905e-01  7.28745190e-17\n",
            "   0.00000000e+00  0.00000000e+00  0.00000000e+00  0.00000000e+00\n",
            "   2.19681853e+00]\n",
            " [ 4.58550766e-17  3.08222905e-01  1.69365131e+00  1.23081472e+00\n",
            "   0.00000000e+00  0.00000000e+00  0.00000000e+00  0.00000000e+00\n",
            "   2.35257923e+00]\n",
            " [-3.08222905e-01  7.28745190e-17  1.23081472e+00  1.91974118e+00\n",
            "   0.00000000e+00  0.00000000e+00  0.00000000e+00  0.00000000e+00\n",
            "  -1.53766709e+00]]\n",
            "\n",
            "FILA 2\n",
            "\n",
            " [[0. 0. 0. 0. 0. 0. 0. 0. 0.]\n",
            " [0. 0. 0. 0. 0. 0. 0. 0. 0.]\n",
            " [0. 0. 0. 0. 0. 0. 0. 0. 0.]\n",
            " [0. 0. 0. 0. 0. 0. 0. 0. 0.]]\n",
            "\n",
            "FILA 3\n",
            "\n",
            " [[ 1.02991116  2.19681853  2.35257923 -1.53766709  0.          0.\n",
            "   0.          0.         14.62880851]]\n",
            "\n",
            " Matriz A\n",
            "\n",
            " [[ 1.69365131e+00  1.23081472e+00  4.58550766e-17 -3.08222905e-01\n",
            "   0.00000000e+00  0.00000000e+00  0.00000000e+00  0.00000000e+00\n",
            "   1.02991116e+00]\n",
            " [ 1.23081472e+00  1.91974118e+00  3.08222905e-01  7.28745190e-17\n",
            "   0.00000000e+00  0.00000000e+00  0.00000000e+00  0.00000000e+00\n",
            "   2.19681853e+00]\n",
            " [ 4.58550766e-17  3.08222905e-01  1.69365131e+00  1.23081472e+00\n",
            "   0.00000000e+00  0.00000000e+00  0.00000000e+00  0.00000000e+00\n",
            "   2.35257923e+00]\n",
            " [-3.08222905e-01  7.28745190e-17  1.23081472e+00  1.91974118e+00\n",
            "   0.00000000e+00  0.00000000e+00  0.00000000e+00  0.00000000e+00\n",
            "  -1.53766709e+00]\n",
            " [ 0.00000000e+00  0.00000000e+00  0.00000000e+00  0.00000000e+00\n",
            "   0.00000000e+00  0.00000000e+00  0.00000000e+00  0.00000000e+00\n",
            "   0.00000000e+00]\n",
            " [ 0.00000000e+00  0.00000000e+00  0.00000000e+00  0.00000000e+00\n",
            "   0.00000000e+00  0.00000000e+00  0.00000000e+00  0.00000000e+00\n",
            "   0.00000000e+00]\n",
            " [ 0.00000000e+00  0.00000000e+00  0.00000000e+00  0.00000000e+00\n",
            "   0.00000000e+00  0.00000000e+00  0.00000000e+00  0.00000000e+00\n",
            "   0.00000000e+00]\n",
            " [ 0.00000000e+00  0.00000000e+00  0.00000000e+00  0.00000000e+00\n",
            "   0.00000000e+00  0.00000000e+00  0.00000000e+00  0.00000000e+00\n",
            "   0.00000000e+00]\n",
            " [ 1.02991116e+00  2.19681853e+00  2.35257923e+00 -1.53766709e+00\n",
            "   0.00000000e+00  0.00000000e+00  0.00000000e+00  0.00000000e+00\n",
            "   1.46288085e+01]]\n",
            "\n",
            " (9, 9)\n"
          ],
          "name": "stdout"
        }
      ]
    },
    {
      "cell_type": "code",
      "metadata": {
        "id": "kwFOwqGPEPNy",
        "colab_type": "code",
        "outputId": "f65f3bb0-f64f-48f7-82bd-9f6158314d19",
        "colab": {
          "base_uri": "https://localhost:8080/",
          "height": 363
        }
      },
      "source": [
        "import cvxpy as cp\n",
        "# Remove exponential notation\n",
        "# np.set_printoptions(suppress=True)\n",
        "\n",
        "# Problem data.\n",
        "np.random.seed(1)\n",
        "k = 2 # number of antennas (TX y RX)\n",
        "zero_array = np.zeros(2*k)\n",
        "\n",
        "# Construct the problem.\n",
        "W = cp.Variable((9,9), PSD=True)\n",
        "\n",
        "objective = cp.Minimize(cp.trace(cp.matmul(W,A)))\n",
        "constraints = [W >> 0, \n",
        "               cp.diag(W[0:2*k, 0:2*k]) - W[2*k:4*k,4*k] == 0,\n",
        "               cp.diag(W[2*k:4*k, 2*k:4*k]) - 10*W[2*k:4*k,4*k] + 9*np.ones((2*k)) == 0,\n",
        "               W[4*k, 4*k] == 1 ]\n",
        "'''\n",
        "subject to:\n",
        "1.  W >> 0 (semidefinida positiva)\n",
        "2. diag(W(1:2*N,1:2*N)) - W(2*N+1:4*N,4*N+1) == 0\n",
        "'''\n",
        "# formulate and solve problem\n",
        "prob = cp.Problem(objective, constraints)\n",
        "prob.solve()\n",
        "\n",
        "# print(\"Optimal value\", prob.solve())\n",
        "print(\"Optimal value of W\")\n",
        "print(W.value) # A numpy ndarray."
      ],
      "execution_count": 26,
      "outputs": [
        {
          "output_type": "stream",
          "text": [
            "Optimal value of W\n",
            "[[  0.99998123  -1.30350731  -2.99976433   2.88534764   1.00005156\n",
            "    1.69921155   8.99930096   8.32565148   0.9999339 ]\n",
            " [ -1.30350731   1.69916933   3.91035306  -3.76120091  -1.30360711\n",
            "   -2.2148766  -11.73106227 -10.85262642  -1.30346688]\n",
            " [ -2.99976433   3.91035306   8.9989547   -8.65567559  -2.99998838\n",
            "   -5.09712919 -26.99676421 -24.97616901  -2.99967825]\n",
            " [  2.88534764  -3.76120091  -8.65567559   8.32550505   2.88556574\n",
            "    4.90266482  25.9670133   24.02328009   2.88526084]\n",
            " [  1.00005156  -1.30360711  -2.99998838   2.88556574   1.00014632\n",
            "    1.69677141   8.99996737   8.33674616   1.00001156]\n",
            " [  1.69921155  -2.2148766   -5.09712919   4.90266482   1.69677141\n",
            "    7.99113818  15.29398296  16.29279943   1.69912366]\n",
            " [  8.99930096 -11.73106227 -26.99676421  25.9670133    8.99996737\n",
            "   15.29398296  80.99024501  74.92335904   8.99902221]\n",
            " [  8.32565148 -10.85262642 -24.97616901  24.02328009   8.33674616\n",
            "   16.29279943  74.92335904  74.2545873    8.32547328]\n",
            " [  0.9999339   -1.30346688  -2.99967825   2.88526084   1.00001156\n",
            "    1.69912366   8.99902221   8.32547328   0.99993692]]\n"
          ],
          "name": "stdout"
        }
      ]
    },
    {
      "cell_type": "code",
      "metadata": {
        "id": "bfmglPbmdHZ4",
        "colab_type": "code",
        "outputId": "f71b0c12-8988-417c-8a80-d982af1b0149",
        "colab": {
          "base_uri": "https://localhost:8080/",
          "height": 545
        }
      },
      "source": [
        "W11=W.value[0:2*k,0:2*k]\n",
        "print(\"Esto es W11:\",W11)\n",
        "print(\"\\n\")\n",
        "W13=W.value[0:2*k,4*k]\n",
        "print(\"Estos es W13:\",W13)\n",
        "print(\"\\n\")\n",
        "W31=W.value[4*k,0:2*k]\n",
        "print(\"Estos es W31:\",W31)\n",
        "print(\"\\n\")\n",
        "W_1113=np.column_stack((W11,W13))\n",
        "print(\"Column stack\",W_1113)\n",
        "one=np.append(W31,1)\n",
        "one = np.array([one])\n",
        "print(\"\\n\")\n",
        "print(one)\n",
        "print(\"\\n\")\n",
        "print(W_1113.shape)\n",
        "print(one.shape)\n",
        "W_ED = np.concatenate((W_1113, one))\n",
        "print(\"W_ED\\n\",W_ED)"
      ],
      "execution_count": 27,
      "outputs": [
        {
          "output_type": "stream",
          "text": [
            "Esto es W11: [[ 0.99998123 -1.30350731 -2.99976433  2.88534764]\n",
            " [-1.30350731  1.69916933  3.91035306 -3.76120091]\n",
            " [-2.99976433  3.91035306  8.9989547  -8.65567559]\n",
            " [ 2.88534764 -3.76120091 -8.65567559  8.32550505]]\n",
            "\n",
            "\n",
            "Estos es W13: [ 0.9999339  -1.30346688 -2.99967825  2.88526084]\n",
            "\n",
            "\n",
            "Estos es W31: [ 0.9999339  -1.30346688 -2.99967825  2.88526084]\n",
            "\n",
            "\n",
            "Column stack [[ 0.99998123 -1.30350731 -2.99976433  2.88534764  0.9999339 ]\n",
            " [-1.30350731  1.69916933  3.91035306 -3.76120091 -1.30346688]\n",
            " [-2.99976433  3.91035306  8.9989547  -8.65567559 -2.99967825]\n",
            " [ 2.88534764 -3.76120091 -8.65567559  8.32550505  2.88526084]]\n",
            "\n",
            "\n",
            "[[ 0.9999339  -1.30346688 -2.99967825  2.88526084  1.        ]]\n",
            "\n",
            "\n",
            "(4, 5)\n",
            "(1, 5)\n",
            "W_ED\n",
            " [[ 0.99998123 -1.30350731 -2.99976433  2.88534764  0.9999339 ]\n",
            " [-1.30350731  1.69916933  3.91035306 -3.76120091 -1.30346688]\n",
            " [-2.99976433  3.91035306  8.9989547  -8.65567559 -2.99967825]\n",
            " [ 2.88534764 -3.76120091 -8.65567559  8.32550505  2.88526084]\n",
            " [ 0.9999339  -1.30346688 -2.99967825  2.88526084  1.        ]]\n"
          ],
          "name": "stdout"
        }
      ]
    },
    {
      "cell_type": "code",
      "metadata": {
        "id": "F7_skraAdekG",
        "colab_type": "code",
        "colab": {}
      },
      "source": [
        "#quantiz version BT\n",
        "def quantiz(entry, symbols):\n",
        "    result = np.empty((len(entry),1))\n",
        "    for i in range(len(entry)):\n",
        "        minimum = float(\"inf\")\n",
        "        for val in symbols:\n",
        "            if abs(val - entry[i]) < minimum:\n",
        "                result[i,0] = val\n",
        "                minimum = abs(val - entry[i])\n",
        "    return result"
      ],
      "execution_count": 0,
      "outputs": []
    },
    {
      "cell_type": "code",
      "metadata": {
        "id": "M_urPnxxNYh0",
        "colab_type": "code",
        "outputId": "fa82d4d2-6428-4f08-977d-4085f7e608b7",
        "colab": {
          "base_uri": "https://localhost:8080/",
          "height": 90
        }
      },
      "source": [
        "#simple quantization \n",
        "\n",
        "valores=W.value[0:2*k,4*k]\n",
        "simple_quantiz = quantiz(valores,s)\n",
        "print(simple_quantiz)"
      ],
      "execution_count": 29,
      "outputs": [
        {
          "output_type": "stream",
          "text": [
            "[[ 1.]\n",
            " [-1.]\n",
            " [-3.]\n",
            " [ 3.]]\n"
          ],
          "name": "stdout"
        }
      ]
    },
    {
      "cell_type": "code",
      "metadata": {
        "id": "CtlRTrm-NZct",
        "colab_type": "code",
        "outputId": "b7ab3f71-76e6-4035-b0b8-a278c3937dad",
        "colab": {
          "base_uri": "https://localhost:8080/",
          "height": 526
        }
      },
      "source": [
        "#eigenvalue descomposition\n",
        "\n",
        "u,S,v=np.linalg.svd(W_ED)#este te calcula svd directamente\n",
        "print (W_ED)\n",
        "print (\"\\n\")\n",
        "print(v)\n",
        "print (\"\\n\")\n",
        "print(v[0,0:2*k])\n",
        "print (\"\\n\")\n",
        "print(v[0,2*k])\n",
        "eigen=v[0,0:2*k]/v[0,2*k]\n",
        "eigen_trans=eigen.transpose()\n",
        "print(\"\\n\")\n",
        "print(\"ESto es el cociente:\",eigen)\n",
        "print(\"\\n\")\n",
        "simb=[-3,-1, 1 ,3]\n",
        "eigen_descomposition = quantiz(eigen_trans,simb)\n"
      ],
      "execution_count": 30,
      "outputs": [
        {
          "output_type": "stream",
          "text": [
            "[[ 0.99998123 -1.30350731 -2.99976433  2.88534764  0.9999339 ]\n",
            " [-1.30350731  1.69916933  3.91035306 -3.76120091 -1.30346688]\n",
            " [-2.99976433  3.91035306  8.9989547  -8.65567559 -2.99967825]\n",
            " [ 2.88534764 -3.76120091 -8.65567559  8.32550505  2.88526084]\n",
            " [ 0.9999339  -1.30346688 -2.99967825  2.88526084  1.        ]]\n",
            "\n",
            "\n",
            "[[-2.18092025e-01  2.84293962e-01  6.54249128e-01 -6.29292630e-01\n",
            "  -2.18086396e-01]\n",
            " [-5.73787741e-02  4.89429560e-02  1.85053508e-01 -1.03287340e-01\n",
            "   9.74371176e-01]\n",
            " [-8.18487461e-01  1.13844369e-01 -5.20502445e-01 -2.13772586e-01\n",
            "   2.22760228e-02]\n",
            " [ 2.93275003e-02  9.17658690e-01 -8.16330179e-03  3.96200856e-01\n",
            "  -8.17935367e-04]\n",
            " [ 5.27599960e-01  2.48442184e-01 -5.16453137e-01 -6.25018939e-01\n",
            "   5.04206882e-02]]\n",
            "\n",
            "\n",
            "[-0.21809203  0.28429396  0.65424913 -0.62929263]\n",
            "\n",
            "\n",
            "-0.2180863963336822\n",
            "\n",
            "\n",
            "ESto es el cociente: [ 1.00002581 -1.30358412 -2.99995387  2.88551987]\n",
            "\n",
            "\n"
          ],
          "name": "stdout"
        }
      ]
    },
    {
      "cell_type": "code",
      "metadata": {
        "id": "6MF6jup2wbyU",
        "colab_type": "code",
        "outputId": "24b537d6-3f0d-46ef-d07e-09bd256d3b38",
        "colab": {
          "base_uri": "https://localhost:8080/",
          "height": 35
        }
      },
      "source": [
        "from numpy import linalg as la\n",
        "\n",
        "def nearestPD(A):\n",
        "    \"\"\"Find the nearest positive-definite matrix to input\n",
        "    A Python/Numpy port of John D'Errico's `nearestSPD` MATLAB code [1], which\n",
        "    credits [2].\n",
        "    [1] https://www.mathworks.com/matlabcentral/fileexchange/42885-nearestspd\n",
        "    [2] N.J. Higham, \"Computing a nearest symmetric positive semidefinite\n",
        "    matrix\" (1988): https://doi.org/10.1016/0024-3795(88)90223-6\n",
        "    \"\"\"\n",
        "\n",
        "    B = (A + A.T) / 2\n",
        "    _, s, V = la.svd(B)\n",
        "\n",
        "    H = np.dot(V.T, np.dot(np.diag(s), V))\n",
        "\n",
        "    A2 = (B + H) / 2\n",
        "\n",
        "    A3 = (A2 + A2.T) / 2\n",
        "\n",
        "    if isPD(A3):\n",
        "        return A3\n",
        "\n",
        "    spacing = np.spacing(la.norm(A))\n",
        "    # The above is different from [1]. It appears that MATLAB's `chol` Cholesky\n",
        "    # decomposition will accept matrixes with exactly 0-eigenvalue, whereas\n",
        "    # Numpy's will not. So where [1] uses `eps(mineig)` (where `eps` is Matlab\n",
        "    # for `np.spacing`), we use the above definition. CAVEAT: our `spacing`\n",
        "    # will be much larger than [1]'s `eps(mineig)`, since `mineig` is usually on\n",
        "    # the order of 1e-16, and `eps(1e-16)` is on the order of 1e-34, whereas\n",
        "    # `spacing` will, for Gaussian random matrixes of small dimension, be on\n",
        "    # othe order of 1e-16. In practice, both ways converge, as the unit test\n",
        "    # below suggests.\n",
        "    I = np.eye(A.shape[0])\n",
        "    k = 1\n",
        "    while not isPD(A3):\n",
        "        mineig = np.min(np.real(la.eigvals(A3)))\n",
        "        A3 += I * (-mineig * k**2 + spacing)\n",
        "        k += 1\n",
        "\n",
        "    return A3\n",
        "\n",
        "def isPD(B):\n",
        "    \"\"\"Returns true when input is positive-definite, via Cholesky\"\"\"\n",
        "    try:\n",
        "        _ = la.cholesky(B)\n",
        "        return True\n",
        "    except la.LinAlgError:\n",
        "        return False\n",
        "\n",
        "if __name__ == '__main__':\n",
        "    import numpy as np\n",
        "    for i in range(10):\n",
        "        for j in range(2, 100):\n",
        "            A = np.random.randn(j, j)\n",
        "            B = nearestPD(A)\n",
        "            assert(isPD(B))\n",
        "    print('unit test passed!')"
      ],
      "execution_count": 31,
      "outputs": [
        {
          "output_type": "stream",
          "text": [
            "unit test passed!\n"
          ],
          "name": "stdout"
        }
      ]
    },
    {
      "cell_type": "code",
      "metadata": {
        "id": "QR2wjuYoNgOu",
        "colab_type": "code",
        "outputId": "3c6f7415-09a5-4bda-d5a8-1ed5898edcff",
        "colab": {
          "base_uri": "https://localhost:8080/",
          "height": 545
        }
      },
      "source": [
        "#randomization \n",
        "#from scipy.linalg import cholesky\n",
        "#v2=cholesky(W_ED)\n",
        "#v=np.linalg.cholesky(W_ED)\n",
        "try:\n",
        "    v= np.linalg.cholesky(W_ED)\n",
        "    print(\"Es positiva\")\n",
        "except np.linalg.LinAlgError:\n",
        "    v = nearestPD(W_ED)\n",
        "    print(\"No Es positiva\")\n",
        "V=v.transpose()\n",
        "print(V)\n",
        "print(\"\\n\")\n",
        "r=np.random.random((2*k+1,1))\n",
        "print(\"Esto es r:\",r)\n",
        "Atransponer=V[:,0:2*k]\n",
        "a=Atransponer.transpose()\n",
        "print(\"\\n\")\n",
        "cosas=np.dot(a,r) \n",
        "print(\"\\n\")\n",
        "Btransponer=V[:,2*k]\n",
        "b=Btransponer.transpose()\n",
        "cosas1=np.dot(b,r)\n",
        "print(\"\\n\")\n",
        "Aquantiz=(cosas)/(cosas1)\n",
        "print(\"Esto es Aquantiz:\",Aquantiz)\n",
        "print(\"\\n\")\n",
        "randomization=quantiz(Aquantiz,simb)\n",
        "print(randomization)"
      ],
      "execution_count": 32,
      "outputs": [
        {
          "output_type": "stream",
          "text": [
            "No Es positiva\n",
            "[[ 0.99998125 -1.3035068  -2.99976434  2.88534786  0.9999339 ]\n",
            " [-1.3035068   1.69918527  3.91035291 -3.76119403 -1.30346689]\n",
            " [-2.99976434  3.91035291  8.9989547  -8.65567565 -2.99967825]\n",
            " [ 2.88534786 -3.76119403 -8.65567565  8.32550803  2.88526084]\n",
            " [ 0.9999339  -1.30346689 -2.99967825  2.88526084  1.        ]]\n",
            "\n",
            "\n",
            "Esto es r: [[0.61982542]\n",
            " [0.72161322]\n",
            " [0.82336413]\n",
            " [0.90780977]\n",
            " [0.00391546]]\n",
            "\n",
            "\n",
            "\n",
            "\n",
            "\n",
            "\n",
            "Esto es Aquantiz: [[ 0.99994976]\n",
            " [-1.30360556]\n",
            " [-3.00012566]\n",
            " [ 2.88557162]]\n",
            "\n",
            "\n",
            "[[ 1.]\n",
            " [-1.]\n",
            " [-3.]\n",
            " [ 3.]]\n"
          ],
          "name": "stdout"
        }
      ]
    },
    {
      "cell_type": "code",
      "metadata": {
        "id": "ih10sLm94Kn2",
        "colab_type": "code",
        "outputId": "92a6ebfc-b6db-42c5-a77d-99d5eb4413d5",
        "colab": {
          "base_uri": "https://localhost:8080/",
          "height": 417
        }
      },
      "source": [
        "print(\"Valor de los símbolos de entrada \\n\",s)\n",
        "print(\"\\nValor simple quantization \\n\", simple_quantiz)\n",
        "print(\"\\nValor eigenvalue descomposition \\n\",eigen_descomposition)\n",
        "print(\"Valor randomization \\n\",randomization)"
      ],
      "execution_count": 33,
      "outputs": [
        {
          "output_type": "stream",
          "text": [
            "Valor de los símbolos de entrada \n",
            " [[ 1]\n",
            " [-1]\n",
            " [-3]\n",
            " [ 3]]\n",
            "\n",
            "Valor simple quantization \n",
            " [[ 1.]\n",
            " [-1.]\n",
            " [-3.]\n",
            " [ 3.]]\n",
            "\n",
            "Valor eigenvalue descomposition \n",
            " [[ 1.]\n",
            " [-1.]\n",
            " [-3.]\n",
            " [ 3.]]\n",
            "Valor randomization \n",
            " [[ 1.]\n",
            " [-1.]\n",
            " [-3.]\n",
            " [ 3.]]\n"
          ],
          "name": "stdout"
        }
      ]
    },
    {
      "cell_type": "code",
      "metadata": {
        "id": "ORnRFdYR4LQz",
        "colab_type": "code",
        "colab": {}
      },
      "source": [
        ""
      ],
      "execution_count": 0,
      "outputs": []
    }
  ]
}