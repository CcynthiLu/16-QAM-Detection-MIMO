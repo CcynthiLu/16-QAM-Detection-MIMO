{
  "nbformat": 4,
  "nbformat_minor": 0,
  "metadata": {
    "colab": {
      "name": "TAC-MIMO",
      "provenance": [],
      "collapsed_sections": [],
      "machine_shape": "hm",
      "include_colab_link": true
    },
    "kernelspec": {
      "name": "python3",
      "display_name": "Python 3"
    }
  },
  "cells": [
    {
      "cell_type": "markdown",
      "metadata": {
        "id": "view-in-github",
        "colab_type": "text"
      },
      "source": [
        "<a href=\"https://colab.research.google.com/github/betegon/16-QAM-Detection-MIMO/blob/master/TAC_MIMO.ipynb\" target=\"_parent\"><img src=\"https://colab.research.google.com/assets/colab-badge.svg\" alt=\"Open In Colab\"/></a>"
      ]
    },
    {
      "cell_type": "code",
      "metadata": {
        "id": "GfqSLBPKr_Uh",
        "colab_type": "code",
        "colab": {}
      },
      "source": [
        "import math\n",
        "import numpy as np\n"
      ],
      "execution_count": 0,
      "outputs": []
    },
    {
      "cell_type": "markdown",
      "metadata": {
        "id": "0So5pVnLtFSD",
        "colab_type": "text"
      },
      "source": [
        "## EJEMPLO CON 2 antenas\n"
      ]
    },
    {
      "cell_type": "code",
      "metadata": {
        "id": "Pb0PM0pMsahp",
        "colab_type": "code",
        "colab": {}
      },
      "source": [
        "k = 2 # 2 antennas"
      ],
      "execution_count": 0,
      "outputs": []
    },
    {
      "cell_type": "code",
      "metadata": {
        "id": "p4WWF_n8tBo_",
        "colab_type": "code",
        "outputId": "356b6df3-64d3-4d74-be42-66d7792c1c4d",
        "colab": {
          "base_uri": "https://localhost:8080/",
          "height": 217
        }
      },
      "source": [
        "s_matrix = np.array([[-3, -3],[-3, 3]])\n",
        "print(s_matrix)\n",
        "s = (np.array([s_matrix.flatten('F')])).transpose()\n",
        "print(\"s\\n\",s)\n",
        "t = s**2\n",
        "print(t)"
      ],
      "execution_count": 0,
      "outputs": [
        {
          "output_type": "stream",
          "text": [
            "[[-3 -3]\n",
            " [-3  3]]\n",
            "s\n",
            " [[-3]\n",
            " [-3]\n",
            " [-3]\n",
            " [ 3]]\n",
            "[[9]\n",
            " [9]\n",
            " [9]\n",
            " [9]]\n"
          ],
          "name": "stdout"
        }
      ]
    },
    {
      "cell_type": "code",
      "metadata": {
        "id": "FiM7m-pxyg83",
        "colab_type": "code",
        "outputId": "fb0d16f0-20fa-473b-f36e-0ff3d64aa289",
        "colab": {
          "base_uri": "https://localhost:8080/",
          "height": 290
        }
      },
      "source": [
        "# CREACIÓN DE H \n",
        "\n",
        "k = 2  # number of antennas\n",
        "# H is CN(0,1)\n",
        "mu = np.zeros(2*k)\n",
        "sigma = np.ones((k,k*2))\n",
        "\n",
        "\n",
        "H = (1/np.sqrt(2))*np.random.normal(loc=mu, scale=sigma, size=(k,k*2)).view(np.complex128) \n",
        "print(H)\n",
        "a = np.column_stack((np.real(H), -np.imag(H)))\n",
        "print(\"Fila1: \\n\",a,\"\\n\")\n",
        "b = np.column_stack((np.imag(H), np.real(H)))\n",
        "print(\"Fila2\\n\",b,\"\\n\")\n",
        "H_expanded = np.concatenate((a,b), axis=0)\n",
        "print(\"Matriz H expandida\\n\",H_expanded)"
      ],
      "execution_count": 0,
      "outputs": [
        {
          "output_type": "stream",
          "text": [
            "[[ 0.66214108-0.79578875j -0.45171898-0.24642896j]\n",
            " [ 0.38983823-0.29155658j  1.23646399-0.51144257j]]\n",
            "Fila1: \n",
            " [[ 0.66214108 -0.45171898  0.79578875  0.24642896]\n",
            " [ 0.38983823  1.23646399  0.29155658  0.51144257]] \n",
            "\n",
            "Fila2\n",
            " [[-0.79578875 -0.24642896  0.66214108 -0.45171898]\n",
            " [-0.29155658 -0.51144257  0.38983823  1.23646399]] \n",
            "\n",
            "Matriz H expandida\n",
            " [[ 0.66214108 -0.45171898  0.79578875  0.24642896]\n",
            " [ 0.38983823  1.23646399  0.29155658  0.51144257]\n",
            " [-0.79578875 -0.24642896  0.66214108 -0.45171898]\n",
            " [-0.29155658 -0.51144257  0.38983823  1.23646399]]\n"
          ],
          "name": "stdout"
        }
      ]
    },
    {
      "cell_type": "code",
      "metadata": {
        "id": "1oMcnp_eRce6",
        "colab_type": "code",
        "colab": {}
      },
      "source": [
        "def awgn(signal, snr, seed=False):\n",
        "    \"\"\" Generate Aditive White Gaussian Noise (AWGN) from an input signal.\n",
        "\n",
        "    Args:\n",
        "        signal  (np.array): Input signal. e.g. signal = np.array([[1, 2.3, -1]])\n",
        "        snr        (float): Signal-to-noise ratio in dB.\n",
        "        seed        (bool): Set seed to reproduce results (good for debugging).\n",
        "                            Defaults to False.\n",
        "\n",
        "    Returns:\n",
        "        noise (np.array): AWGN generated from an input signal.\n",
        "\n",
        "    \"\"\"\n",
        "    if seed: np.random.seed(1)\n",
        "    sigpower = sum([ math.pow(abs(signal[i]),2) for i in range(len(signal)) ])\n",
        "    sigpower = sigpower / len(signal)\n",
        "    noisepower = sigpower / (math.pow(10,snr/10))\n",
        "    noise = np.random.normal(0, np.sqrt(noisepower), len(signal))\n",
        "    return np.array([noise]).T"
      ],
      "execution_count": 0,
      "outputs": []
    },
    {
      "cell_type": "code",
      "metadata": {
        "id": "WY6X7Cn80-3X",
        "colab_type": "code",
        "outputId": "f1ef4dc9-1a08-4532-f6e9-be2ae1f4ec52",
        "colab": {
          "base_uri": "https://localhost:8080/",
          "height": 454
        }
      },
      "source": [
        "# y = H*s+w;      \n",
        "mu = np.zeros(k)\n",
        "sigma = np.ones((k,k))\n",
        "snr = 20\n",
        "\n",
        "noise = awgn(s,snr)\n",
        "# noise = np.random.normal(loc=mu, scale=sigma, size=(k,k)).view(np.complex128) \n",
        "# noise = np.concatenate((np.real(noise), np.imag(noise)), axis=0)\n",
        "\n",
        "\n",
        "\n",
        "y = H_expanded.dot(s) + noise\n",
        "print(\"\\nH\\n\",H_expanded)\n",
        "print(\"\\ns\\n\",s)\n",
        "# print(\"\\nnoise\\n\",noise)\n",
        "print(\"\\nnoise \\n\", noise)\n",
        "print(\"\\ny\\n\",y)"
      ],
      "execution_count": 0,
      "outputs": [
        {
          "output_type": "stream",
          "text": [
            "\n",
            "H\n",
            " [[ 0.66214108 -0.45171898  0.79578875  0.24642896]\n",
            " [ 0.38983823  1.23646399  0.29155658  0.51144257]\n",
            " [-0.79578875 -0.24642896  0.66214108 -0.45171898]\n",
            " [-0.29155658 -0.51144257  0.38983823  1.23646399]]\n",
            "\n",
            "s\n",
            " [[-3]\n",
            " [-3]\n",
            " [-3]\n",
            " [ 3]]\n",
            "\n",
            "noise \n",
            " [[-0.02214818]\n",
            " [-0.35709182]\n",
            " [-0.12617904]\n",
            " [-0.24729107]]\n",
            "\n",
            "y\n",
            " [[-2.30149384]\n",
            " [-4.57634051]\n",
            " [-0.34110606]\n",
            " [ 4.70158364]]\n"
          ],
          "name": "stdout"
        }
      ]
    },
    {
      "cell_type": "code",
      "metadata": {
        "id": "d0oPfqaxuZOG",
        "colab_type": "code",
        "outputId": "8dba57a7-b9d0-454c-fe7b-d76597b5423e",
        "colab": {
          "base_uri": "https://localhost:8080/",
          "height": 490
        }
      },
      "source": [
        "## CALCULO DE W (variable a minimizar)\n",
        "w = np.concatenate((s,t,[[1]]))\n",
        "w_transpose = w.transpose()\n",
        "print(\"w\\n\",w)\n",
        "print(\"w_transpose\\n\",w_transpose)\n",
        "\n",
        "W = w.dot(w_transpose)\n",
        "print(\"\\nBig W\\n\",W)\n",
        "print(\"\\nBig W\\n\",W.shape)"
      ],
      "execution_count": 0,
      "outputs": [
        {
          "output_type": "stream",
          "text": [
            "w\n",
            " [[-3]\n",
            " [-3]\n",
            " [-3]\n",
            " [ 3]\n",
            " [ 9]\n",
            " [ 9]\n",
            " [ 9]\n",
            " [ 9]\n",
            " [ 1]]\n",
            "w_transpose\n",
            " [[-3 -3 -3  3  9  9  9  9  1]]\n",
            "\n",
            "Big W\n",
            " [[  9   9   9  -9 -27 -27 -27 -27  -3]\n",
            " [  9   9   9  -9 -27 -27 -27 -27  -3]\n",
            " [  9   9   9  -9 -27 -27 -27 -27  -3]\n",
            " [ -9  -9  -9   9  27  27  27  27   3]\n",
            " [-27 -27 -27  27  81  81  81  81   9]\n",
            " [-27 -27 -27  27  81  81  81  81   9]\n",
            " [-27 -27 -27  27  81  81  81  81   9]\n",
            " [-27 -27 -27  27  81  81  81  81   9]\n",
            " [ -3  -3  -3   3   9   9   9   9   1]]\n",
            "\n",
            "Big W\n",
            " (9, 9)\n"
          ],
          "name": "stdout"
        }
      ]
    },
    {
      "cell_type": "code",
      "metadata": {
        "id": "OHzZAioK0dJ5",
        "colab_type": "code",
        "colab": {}
      },
      "source": [
        ""
      ],
      "execution_count": 0,
      "outputs": []
    },
    {
      "cell_type": "code",
      "metadata": {
        "id": "tL8SZAhX8d28",
        "colab_type": "code",
        "colab": {}
      },
      "source": [
        ""
      ],
      "execution_count": 0,
      "outputs": []
    },
    {
      "cell_type": "code",
      "metadata": {
        "id": "QrHx7MT710wj",
        "colab_type": "code",
        "outputId": "a06012bd-848f-4176-837b-59d60bc453cf",
        "colab": {
          "base_uri": "https://localhost:8080/",
          "height": 90
        }
      },
      "source": [
        "y\n"
      ],
      "execution_count": 0,
      "outputs": [
        {
          "output_type": "execute_result",
          "data": {
            "text/plain": [
              "array([[-2.30149384],\n",
              "       [-4.57634051],\n",
              "       [-0.34110606],\n",
              "       [ 4.70158364]])"
            ]
          },
          "metadata": {
            "tags": []
          },
          "execution_count": 8
        }
      ]
    },
    {
      "cell_type": "code",
      "metadata": {
        "id": "KWEGqBW48a5o",
        "colab_type": "code",
        "colab": {}
      },
      "source": [
        ""
      ],
      "execution_count": 0,
      "outputs": []
    },
    {
      "cell_type": "code",
      "metadata": {
        "id": "5TeZsK0PMpN-",
        "colab_type": "code",
        "colab": {}
      },
      "source": [
        ""
      ],
      "execution_count": 0,
      "outputs": []
    },
    {
      "cell_type": "code",
      "metadata": {
        "id": "mJP5lugUM9gX",
        "colab_type": "code",
        "colab": {}
      },
      "source": [
        ""
      ],
      "execution_count": 0,
      "outputs": []
    },
    {
      "cell_type": "code",
      "metadata": {
        "id": "5hBuEZw1QTXt",
        "colab_type": "code",
        "colab": {}
      },
      "source": [
        ""
      ],
      "execution_count": 0,
      "outputs": []
    },
    {
      "cell_type": "code",
      "metadata": {
        "id": "B3kPd6qyQY5t",
        "colab_type": "code",
        "outputId": "9a04e2ca-3d0c-49c0-ca72-7b21e51cfc02",
        "colab": {
          "base_uri": "https://localhost:8080/",
          "height": 1000
        }
      },
      "source": [
        "# Cálculo de la matriz a multiplicar por H\n",
        "\n",
        "A11 = H_expanded.T.dot(H_expanded) # Check if it is really doing the transpose of H_expanded\n",
        "A12 = np.zeros((2*k,2*k))\n",
        "A13 = -H_expanded.T.dot(y) # Check if it is really doing the transpose of H_expanded\n",
        "A1X = np.column_stack((np.column_stack((A11, A12)), A13))\n",
        "print(\"\\nFILA 1\")\n",
        "print(\"\\n\",A1X)\n",
        "\n",
        "print(\"\\nFILA 2\")\n",
        "A2X = np.zeros((2*k,A1X.shape[1]))\n",
        "print(\"\\n\",A2X)\n",
        "\n",
        "print(\"\\nFILA 3\")\n",
        "A31 = (-y.T).dot(H_expanded)\n",
        "A32= np.zeros((1,2*k))\n",
        "A33 = (y.T).dot(y)\n",
        "A3X = np.column_stack((np.column_stack((A31, A32)), A33))\n",
        "A3X = np.column_stack((A31, A32, A33))\n",
        "print(\"\\n\",A3X)\n",
        "\n",
        "A = np.concatenate((A1X,A2X,A3X))\n",
        "print(\"\\n Matriz A\")\n",
        "print(\"\\n\",A)\n",
        "print(\"\\n\",A.shape)\n",
        "\n",
        "# A = [H'*H zeros(2*N,2*N) -H'*y; zeros(2*N,4*N+1); -y'*H zeros(1,2*N) y'*y];\n"
      ],
      "execution_count": 0,
      "outputs": [
        {
          "output_type": "stream",
          "text": [
            "\n",
            "FILA 1\n",
            "\n",
            " [[ 1.30868962e+00  5.28139087e-01  3.93100659e-18  3.61524269e-01\n",
            "   0.00000000e+00  0.00000000e+00  0.00000000e+00  0.00000000e+00\n",
            "   4.40727538e+00]\n",
            " [ 5.28139087e-01  2.05519396e+00 -3.61524269e-01 -1.08260064e-16\n",
            "   0.00000000e+00  0.00000000e+00  0.00000000e+00  0.00000000e+00\n",
            "   6.93938340e+00]\n",
            " [ 3.93100659e-18 -3.61524269e-01  1.30868962e+00  5.28139087e-01\n",
            "   0.00000000e+00  0.00000000e+00  0.00000000e+00  0.00000000e+00\n",
            "   1.55876838e+00]\n",
            " [ 3.61524269e-01 -1.08260064e-16  5.28139087e-01  2.05519396e+00\n",
            "   0.00000000e+00  0.00000000e+00  0.00000000e+00  0.00000000e+00\n",
            "  -3.05973286e+00]]\n",
            "\n",
            "FILA 2\n",
            "\n",
            " [[0. 0. 0. 0. 0. 0. 0. 0. 0.]\n",
            " [0. 0. 0. 0. 0. 0. 0. 0. 0.]\n",
            " [0. 0. 0. 0. 0. 0. 0. 0. 0.]\n",
            " [0. 0. 0. 0. 0. 0. 0. 0. 0.]]\n",
            "\n",
            "FILA 3\n",
            "\n",
            " [[ 4.40727538  6.9393834   1.55876838 -3.05973286  0.          0.\n",
            "   0.          0.         48.46100847]]\n",
            "\n",
            " Matriz A\n",
            "\n",
            " [[ 1.30868962e+00  5.28139087e-01  3.93100659e-18  3.61524269e-01\n",
            "   0.00000000e+00  0.00000000e+00  0.00000000e+00  0.00000000e+00\n",
            "   4.40727538e+00]\n",
            " [ 5.28139087e-01  2.05519396e+00 -3.61524269e-01 -1.08260064e-16\n",
            "   0.00000000e+00  0.00000000e+00  0.00000000e+00  0.00000000e+00\n",
            "   6.93938340e+00]\n",
            " [ 3.93100659e-18 -3.61524269e-01  1.30868962e+00  5.28139087e-01\n",
            "   0.00000000e+00  0.00000000e+00  0.00000000e+00  0.00000000e+00\n",
            "   1.55876838e+00]\n",
            " [ 3.61524269e-01 -1.08260064e-16  5.28139087e-01  2.05519396e+00\n",
            "   0.00000000e+00  0.00000000e+00  0.00000000e+00  0.00000000e+00\n",
            "  -3.05973286e+00]\n",
            " [ 0.00000000e+00  0.00000000e+00  0.00000000e+00  0.00000000e+00\n",
            "   0.00000000e+00  0.00000000e+00  0.00000000e+00  0.00000000e+00\n",
            "   0.00000000e+00]\n",
            " [ 0.00000000e+00  0.00000000e+00  0.00000000e+00  0.00000000e+00\n",
            "   0.00000000e+00  0.00000000e+00  0.00000000e+00  0.00000000e+00\n",
            "   0.00000000e+00]\n",
            " [ 0.00000000e+00  0.00000000e+00  0.00000000e+00  0.00000000e+00\n",
            "   0.00000000e+00  0.00000000e+00  0.00000000e+00  0.00000000e+00\n",
            "   0.00000000e+00]\n",
            " [ 0.00000000e+00  0.00000000e+00  0.00000000e+00  0.00000000e+00\n",
            "   0.00000000e+00  0.00000000e+00  0.00000000e+00  0.00000000e+00\n",
            "   0.00000000e+00]\n",
            " [ 4.40727538e+00  6.93938340e+00  1.55876838e+00 -3.05973286e+00\n",
            "   0.00000000e+00  0.00000000e+00  0.00000000e+00  0.00000000e+00\n",
            "   4.84610085e+01]]\n",
            "\n",
            " (9, 9)\n"
          ],
          "name": "stdout"
        }
      ]
    },
    {
      "cell_type": "code",
      "metadata": {
        "id": "YSDu3ElgShdw",
        "colab_type": "code",
        "colab": {}
      },
      "source": [
        ""
      ],
      "execution_count": 0,
      "outputs": []
    },
    {
      "cell_type": "code",
      "metadata": {
        "id": "kwFOwqGPEPNy",
        "colab_type": "code",
        "outputId": "0d01db25-7498-4f39-d46d-29030cdee736",
        "colab": {
          "base_uri": "https://localhost:8080/",
          "height": 381
        }
      },
      "source": [
        "import cvxpy as cp\n",
        "# Remove exponential notation\n",
        "np.set_printoptions(suppress=True)\n",
        "\n",
        "\n",
        "# Problem data.\n",
        "np.random.seed(1)\n",
        "# print(A)\n",
        "k = 2 # number of antennas (TX y RX)\n",
        "zero_array = np.zeros(2*k)\n",
        "# m = 2\n",
        "# n = 2\n",
        "# A = np.random.randn(m, n)\n",
        "# b = np.random.randn(n,1)\n",
        "#  2x2 2x1 = 2x1\n",
        "# c = cp.matmul(A,b)\n",
        "# print(c)\n",
        "\n",
        "# Construct the problem.\n",
        "W = cp.Variable((9,9))\n",
        "\n",
        "objective = cp.Minimize(cp.trace(cp.matmul(W,A)))\n",
        "# objective = cp.Minimize(cp.trace(W@A))\n",
        "constraints = [W >> 0, \n",
        "               cp.diag(W[0:2*k, 0:2*k]) - W[2*k:4*k,4*k] == 0,\n",
        "               cp.diag(W[2*k:4*k, 2*k:4*k]) - 10*W[2*k:4*k,4*k] + 9*np.ones((2*k)) == 0,\n",
        "               W[4*k, 4*k] == 1 ]\n",
        "\n",
        "'''\n",
        "subject to:\n",
        "1.  W >> 0 (semidefinida positiva)\n",
        "2. diag(W(1:2*N,1:2*N)) - W(2*N+1:4*N,4*N+1) == 0\n",
        "'''\n",
        "\n",
        "prob = cp.Problem(objective, constraints)\n",
        "prob.solve()\n",
        "\n",
        "# print(\"Optimal value\", prob.solve())\n",
        "print(\"Optimal value of W\")\n",
        "print(W.value) # A numpy ndarray."
      ],
      "execution_count": 0,
      "outputs": [
        {
          "output_type": "stream",
          "text": [
            "WARN: m less than n, problem likely degenerate\n",
            "Optimal value of W\n",
            "[[  8.12517554   9.14836878   9.16157447  -8.02743193  -0.00067368\n",
            "    0.00019167  -0.00104905  -0.00094233  -2.85047124]\n",
            " [  9.14836878  10.30040885  10.31527939  -9.03831477  -0.0009475\n",
            "   -0.0004843   -0.00078089  -0.00126275  -3.20942761]\n",
            " [  9.16157447  10.31527939  10.33016997  -9.05136309  -0.00049843\n",
            "   -0.00068758  -0.00090029  -0.00078496  -3.21406085]\n",
            " [ -8.02743193  -9.03831477  -9.05136309   7.93085884   0.00066068\n",
            "    0.00053993   0.00085595   0.00097845   2.81618068]\n",
            " [ -0.00067368  -0.0009475   -0.00049843   0.00066068  72.25175007\n",
            "    0.00057795  -0.00007759   0.00043051   8.12517528]\n",
            " [  0.00019167  -0.0004843   -0.00068758   0.00053993   0.00057795\n",
            "   94.00408678  -0.00015156   0.00023949  10.30040886]\n",
            " [ -0.00104905  -0.00078089  -0.00090029   0.00085595  -0.00007759\n",
            "   -0.00015156  94.30169877  -0.00001692  10.33017013]\n",
            " [ -0.00094233  -0.00126275  -0.00078496   0.00097845   0.00043051\n",
            "    0.00023949  -0.00001692  70.30858091   7.93085843]\n",
            " [ -2.85047124  -3.20942761  -3.21406085   2.81618068  -8.12464552\n",
            "  -10.30020689 -10.32959247  -7.93014041   1.00000248]]\n"
          ],
          "name": "stdout"
        }
      ]
    },
    {
      "cell_type": "code",
      "metadata": {
        "id": "bfmglPbmdHZ4",
        "colab_type": "code",
        "outputId": "b54e4f03-02a9-4cf3-bdd9-65da5041828c",
        "colab": {
          "base_uri": "https://localhost:8080/",
          "height": 35
        }
      },
      "source": [
        ""
      ],
      "execution_count": 0,
      "outputs": [
        {
          "output_type": "stream",
          "text": [
            "12.0\n"
          ],
          "name": "stdout"
        }
      ]
    },
    {
      "cell_type": "code",
      "metadata": {
        "id": "F7_skraAdekG",
        "colab_type": "code",
        "colab": {}
      },
      "source": [
        ""
      ],
      "execution_count": 0,
      "outputs": []
    }
  ]
}